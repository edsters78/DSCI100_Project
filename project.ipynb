{
 "cells": [
  {
   "cell_type": "markdown",
   "metadata": {},
   "source": [
    "Reminders:\n",
    "\n",
    "Since the grades are classified using numbers 1-20, we should check for inbalances (i.e. if there's only one 17)\n",
    "\n",
    "The final report consists of a model, as well as intpreting what the accuracy could mean"
   ]
  },
  {
   "cell_type": "markdown",
   "metadata": {},
   "source": [
    "https://raw.githubusercontent.com/edsters78/Project_Proposal/main/student-mat.csv <br> \n",
    "This is the link to the data set we are using."
   ]
  },
  {
   "cell_type": "code",
   "execution_count": 1,
   "metadata": {},
   "outputs": [
    {
     "name": "stderr",
     "output_type": "stream",
     "text": [
      "── \u001b[1mAttaching packages\u001b[22m ─────────────────────────────────────── tidyverse 1.3.0 ──\n",
      "\n",
      "\u001b[32m✔\u001b[39m \u001b[34mggplot2\u001b[39m 3.3.2     \u001b[32m✔\u001b[39m \u001b[34mpurrr  \u001b[39m 0.3.4\n",
      "\u001b[32m✔\u001b[39m \u001b[34mtibble \u001b[39m 3.0.3     \u001b[32m✔\u001b[39m \u001b[34mdplyr  \u001b[39m 1.0.2\n",
      "\u001b[32m✔\u001b[39m \u001b[34mtidyr  \u001b[39m 1.1.2     \u001b[32m✔\u001b[39m \u001b[34mstringr\u001b[39m 1.4.0\n",
      "\u001b[32m✔\u001b[39m \u001b[34mreadr  \u001b[39m 1.3.1     \u001b[32m✔\u001b[39m \u001b[34mforcats\u001b[39m 0.5.0\n",
      "\n",
      "Warning message:\n",
      "“package ‘ggplot2’ was built under R version 4.0.1”\n",
      "Warning message:\n",
      "“package ‘tibble’ was built under R version 4.0.2”\n",
      "Warning message:\n",
      "“package ‘tidyr’ was built under R version 4.0.2”\n",
      "Warning message:\n",
      "“package ‘dplyr’ was built under R version 4.0.2”\n",
      "── \u001b[1mConflicts\u001b[22m ────────────────────────────────────────── tidyverse_conflicts() ──\n",
      "\u001b[31m✖\u001b[39m \u001b[34mdplyr\u001b[39m::\u001b[32mfilter()\u001b[39m masks \u001b[34mstats\u001b[39m::filter()\n",
      "\u001b[31m✖\u001b[39m \u001b[34mdplyr\u001b[39m::\u001b[32mlag()\u001b[39m    masks \u001b[34mstats\u001b[39m::lag()\n",
      "\n",
      "Warning message:\n",
      "“package ‘tidymodels’ was built under R version 4.0.2”\n",
      "── \u001b[1mAttaching packages\u001b[22m ────────────────────────────────────── tidymodels 0.1.1 ──\n",
      "\n",
      "\u001b[32m✔\u001b[39m \u001b[34mbroom    \u001b[39m 0.7.0      \u001b[32m✔\u001b[39m \u001b[34mrecipes  \u001b[39m 0.1.13\n",
      "\u001b[32m✔\u001b[39m \u001b[34mdials    \u001b[39m 0.0.9      \u001b[32m✔\u001b[39m \u001b[34mrsample  \u001b[39m 0.0.7 \n",
      "\u001b[32m✔\u001b[39m \u001b[34minfer    \u001b[39m 0.5.4      \u001b[32m✔\u001b[39m \u001b[34mtune     \u001b[39m 0.1.1 \n",
      "\u001b[32m✔\u001b[39m \u001b[34mmodeldata\u001b[39m 0.0.2      \u001b[32m✔\u001b[39m \u001b[34mworkflows\u001b[39m 0.2.0 \n",
      "\u001b[32m✔\u001b[39m \u001b[34mparsnip  \u001b[39m 0.1.3      \u001b[32m✔\u001b[39m \u001b[34myardstick\u001b[39m 0.0.7 \n",
      "\n",
      "Warning message:\n",
      "“package ‘broom’ was built under R version 4.0.2”\n",
      "Warning message:\n",
      "“package ‘dials’ was built under R version 4.0.2”\n",
      "Warning message:\n",
      "“package ‘infer’ was built under R version 4.0.3”\n",
      "Warning message:\n",
      "“package ‘modeldata’ was built under R version 4.0.1”\n",
      "Warning message:\n",
      "“package ‘parsnip’ was built under R version 4.0.2”\n",
      "Warning message:\n",
      "“package ‘recipes’ was built under R version 4.0.1”\n",
      "Warning message:\n",
      "“package ‘tune’ was built under R version 4.0.2”\n",
      "Warning message:\n",
      "“package ‘workflows’ was built under R version 4.0.2”\n",
      "Warning message:\n",
      "“package ‘yardstick’ was built under R version 4.0.2”\n",
      "── \u001b[1mConflicts\u001b[22m ───────────────────────────────────────── tidymodels_conflicts() ──\n",
      "\u001b[31m✖\u001b[39m \u001b[34mscales\u001b[39m::\u001b[32mdiscard()\u001b[39m masks \u001b[34mpurrr\u001b[39m::discard()\n",
      "\u001b[31m✖\u001b[39m \u001b[34mdplyr\u001b[39m::\u001b[32mfilter()\u001b[39m   masks \u001b[34mstats\u001b[39m::filter()\n",
      "\u001b[31m✖\u001b[39m \u001b[34mrecipes\u001b[39m::\u001b[32mfixed()\u001b[39m  masks \u001b[34mstringr\u001b[39m::fixed()\n",
      "\u001b[31m✖\u001b[39m \u001b[34mdplyr\u001b[39m::\u001b[32mlag()\u001b[39m      masks \u001b[34mstats\u001b[39m::lag()\n",
      "\u001b[31m✖\u001b[39m \u001b[34myardstick\u001b[39m::\u001b[32mspec()\u001b[39m masks \u001b[34mreadr\u001b[39m::spec()\n",
      "\u001b[31m✖\u001b[39m \u001b[34mrecipes\u001b[39m::\u001b[32mstep()\u001b[39m   masks \u001b[34mstats\u001b[39m::step()\n",
      "\n",
      "Warning message:\n",
      "“package ‘cowplot’ was built under R version 4.0.3”\n"
     ]
    }
   ],
   "source": [
    "library(tidyverse)\n",
    "library(repr)\n",
    "library(tidymodels)\n",
    "library(cowplot)\n",
    "library(scales)\n",
    "library(dplyr)"
   ]
  },
  {
   "cell_type": "markdown",
   "metadata": {},
   "source": [
    "# Predicting a Student's Success"
   ]
  },
  {
   "cell_type": "markdown",
   "metadata": {},
   "source": [
    "## Introduction"
   ]
  },
  {
   "cell_type": "markdown",
   "metadata": {},
   "source": [
    "- choose predictors and justify it, potentially using sources, visualizations\n",
    "- provide some relevant background information on the topic so that someone unfamiliar with it will be prepared to understand the rest of your report\n",
    "- clearly state the question you tried to answer with your project\n",
    "- identify and describe the dataset that was used to answer the question\n"
   ]
  },
  {
   "cell_type": "markdown",
   "metadata": {},
   "source": [
    "We, group 18, have decided to look into a dataset measuring factors which contribute to a students academic achievement, where academic achievement is measured by a student's grades. It is of utmost importance for educators to understand which factors (such as age, family income, demographics et cetera) contribute to a students academic success in order to adjust pedagogical practices to support and optimize a students learning. The question that we intend to answer is as follows: **can we accurately predict a student's academic achievement (grade), based on a variety of factors**. We will answer this by creating a machine learning knn classification model that will predict student grades, and based on these predictions, we will relate it back to the true values to assess the models accuracy. \n",
    "\n",
    "The dataset that we, group 18, have chosen is called Student Grade Prediction, which is a data set consisting of 33 columns and 395 rows, containing data of students from two different Portuguese secondary education institutes. The columns contain factors that the researchers deemed to be relevant in determining a student's academic achievements. Examples of these factors (variables) include the students sex, there relative health and the amount of time spent studying. \n"
   ]
  },
  {
   "cell_type": "markdown",
   "metadata": {},
   "source": [
    "## Methods and Results"
   ]
  },
  {
   "cell_type": "code",
   "execution_count": 2,
   "metadata": {},
   "outputs": [
    {
     "name": "stderr",
     "output_type": "stream",
     "text": [
      "Parsed with column specification:\n",
      "cols(\n",
      "  .default = col_character(),\n",
      "  age = \u001b[32mcol_double()\u001b[39m,\n",
      "  Medu = \u001b[32mcol_double()\u001b[39m,\n",
      "  Fedu = \u001b[32mcol_double()\u001b[39m,\n",
      "  traveltime = \u001b[32mcol_double()\u001b[39m,\n",
      "  studytime = \u001b[32mcol_double()\u001b[39m,\n",
      "  failures = \u001b[32mcol_double()\u001b[39m,\n",
      "  famrel = \u001b[32mcol_double()\u001b[39m,\n",
      "  freetime = \u001b[32mcol_double()\u001b[39m,\n",
      "  goout = \u001b[32mcol_double()\u001b[39m,\n",
      "  Dalc = \u001b[32mcol_double()\u001b[39m,\n",
      "  Walc = \u001b[32mcol_double()\u001b[39m,\n",
      "  health = \u001b[32mcol_double()\u001b[39m,\n",
      "  absences = \u001b[32mcol_double()\u001b[39m,\n",
      "  G1 = \u001b[32mcol_double()\u001b[39m,\n",
      "  G2 = \u001b[32mcol_double()\u001b[39m,\n",
      "  G3 = \u001b[32mcol_double()\u001b[39m\n",
      ")\n",
      "\n",
      "See spec(...) for full column specifications.\n",
      "\n"
     ]
    }
   ],
   "source": [
    "#reading data from web\n",
    "options(repr.matrix.max.rows = 10)\n",
    "url<-\"https://raw.githubusercontent.com/edsters78/Project_Proposal/main/student-mat.csv\"\n",
    "student_data<-read_csv(url)\n",
    "#student_data"
   ]
  },
  {
   "cell_type": "code",
   "execution_count": 3,
   "metadata": {},
   "outputs": [],
   "source": [
    "#tidying the data\n",
    "#selecting only the variables that will be most relevant\n",
    "student_data_clean <- student_data %>%\n",
    "    select(sex, address, Medu, Fedu, traveltime, studytime, paid, activities, internet, famrel, Dalc, Walc, health, absences, G3) \n",
    "#student_data_clean\n",
    "\n",
    "# student_data_clean_nonly <- student_data_clean %>%\n",
    "#     mutate(sex = ifelse(sex == \"F\", 1, 0), #1 is female, 0 is male\n",
    "#           address = ifelse(address == \"U\", 1, 0), #1 is Urban, 0 is Rural\n",
    "#           paid = ifelse(paid == \"yes\", 1, 0), #1 is yes, 0 is no\n",
    "#           activities = ifelse(activities == \"yes\", 1, 0), #1 is yes, 0 is no\n",
    "#           internet = ifelse(internet == \"yes\", 1, 0)) #1 is yes, 0 is no\n",
    "# student_data_clean_nonly"
   ]
  },
  {
   "cell_type": "code",
   "execution_count": 4,
   "metadata": {},
   "outputs": [],
   "source": [
    "# #splitting into training and testing data\n",
    "# student_split <- initial_split(student_data_clean_nonly, prop = 0.75, strat = G3)\n",
    "# student_train <- training(student_split)\n",
    "# student_test <- testing(student_split)\n",
    "\n",
    "# student_train\n",
    "# #student_test"
   ]
  },
  {
   "cell_type": "code",
   "execution_count": 5,
   "metadata": {},
   "outputs": [
    {
     "name": "stderr",
     "output_type": "stream",
     "text": [
      "`summarise()` ungrouping output (override with `.groups` argument)\n",
      "\n"
     ]
    },
    {
     "data": {
      "text/html": [
       "<table>\n",
       "<caption>A tibble: 18 × 2</caption>\n",
       "<thead>\n",
       "\t<tr><th scope=col>G3</th><th scope=col>n</th></tr>\n",
       "\t<tr><th scope=col>&lt;dbl&gt;</th><th scope=col>&lt;int&gt;</th></tr>\n",
       "</thead>\n",
       "<tbody>\n",
       "\t<tr><td>0</td><td>38</td></tr>\n",
       "\t<tr><td>4</td><td> 1</td></tr>\n",
       "\t<tr><td>5</td><td> 7</td></tr>\n",
       "\t<tr><td>6</td><td>15</td></tr>\n",
       "\t<tr><td>7</td><td> 9</td></tr>\n",
       "\t<tr><td>⋮</td><td>⋮</td></tr>\n",
       "\t<tr><td>16</td><td>16</td></tr>\n",
       "\t<tr><td>17</td><td> 6</td></tr>\n",
       "\t<tr><td>18</td><td>12</td></tr>\n",
       "\t<tr><td>19</td><td> 5</td></tr>\n",
       "\t<tr><td>20</td><td> 1</td></tr>\n",
       "</tbody>\n",
       "</table>\n"
      ],
      "text/latex": [
       "A tibble: 18 × 2\n",
       "\\begin{tabular}{ll}\n",
       " G3 & n\\\\\n",
       " <dbl> & <int>\\\\\n",
       "\\hline\n",
       "\t 0 & 38\\\\\n",
       "\t 4 &  1\\\\\n",
       "\t 5 &  7\\\\\n",
       "\t 6 & 15\\\\\n",
       "\t 7 &  9\\\\\n",
       "\t ⋮ & ⋮\\\\\n",
       "\t 16 & 16\\\\\n",
       "\t 17 &  6\\\\\n",
       "\t 18 & 12\\\\\n",
       "\t 19 &  5\\\\\n",
       "\t 20 &  1\\\\\n",
       "\\end{tabular}\n"
      ],
      "text/markdown": [
       "\n",
       "A tibble: 18 × 2\n",
       "\n",
       "| G3 &lt;dbl&gt; | n &lt;int&gt; |\n",
       "|---|---|\n",
       "| 0 | 38 |\n",
       "| 4 |  1 |\n",
       "| 5 |  7 |\n",
       "| 6 | 15 |\n",
       "| 7 |  9 |\n",
       "| ⋮ | ⋮ |\n",
       "| 16 | 16 |\n",
       "| 17 |  6 |\n",
       "| 18 | 12 |\n",
       "| 19 |  5 |\n",
       "| 20 |  1 |\n",
       "\n"
      ],
      "text/plain": [
       "   G3 n \n",
       "1  0  38\n",
       "2  4   1\n",
       "3  5   7\n",
       "4  6  15\n",
       "5  7   9\n",
       "⋮  ⋮  ⋮ \n",
       "14 16 16\n",
       "15 17  6\n",
       "16 18 12\n",
       "17 19  5\n",
       "18 20  1"
      ]
     },
     "metadata": {},
     "output_type": "display_data"
    },
    {
     "data": {
      "text/html": [
       "<table>\n",
       "<caption>A tibble: 18 × 2</caption>\n",
       "<thead>\n",
       "\t<tr><th scope=col>G3</th><th scope=col>n</th></tr>\n",
       "\t<tr><th scope=col>&lt;dbl&gt;</th><th scope=col>&lt;int&gt;</th></tr>\n",
       "</thead>\n",
       "<tbody>\n",
       "\t<tr><td> 4</td><td>1</td></tr>\n",
       "\t<tr><td>20</td><td>1</td></tr>\n",
       "\t<tr><td>19</td><td>5</td></tr>\n",
       "\t<tr><td>17</td><td>6</td></tr>\n",
       "\t<tr><td> 5</td><td>7</td></tr>\n",
       "\t<tr><td>⋮</td><td>⋮</td></tr>\n",
       "\t<tr><td> 8</td><td>32</td></tr>\n",
       "\t<tr><td>15</td><td>33</td></tr>\n",
       "\t<tr><td> 0</td><td>38</td></tr>\n",
       "\t<tr><td>11</td><td>47</td></tr>\n",
       "\t<tr><td>10</td><td>56</td></tr>\n",
       "</tbody>\n",
       "</table>\n"
      ],
      "text/latex": [
       "A tibble: 18 × 2\n",
       "\\begin{tabular}{ll}\n",
       " G3 & n\\\\\n",
       " <dbl> & <int>\\\\\n",
       "\\hline\n",
       "\t  4 & 1\\\\\n",
       "\t 20 & 1\\\\\n",
       "\t 19 & 5\\\\\n",
       "\t 17 & 6\\\\\n",
       "\t  5 & 7\\\\\n",
       "\t ⋮ & ⋮\\\\\n",
       "\t  8 & 32\\\\\n",
       "\t 15 & 33\\\\\n",
       "\t  0 & 38\\\\\n",
       "\t 11 & 47\\\\\n",
       "\t 10 & 56\\\\\n",
       "\\end{tabular}\n"
      ],
      "text/markdown": [
       "\n",
       "A tibble: 18 × 2\n",
       "\n",
       "| G3 &lt;dbl&gt; | n &lt;int&gt; |\n",
       "|---|---|\n",
       "|  4 | 1 |\n",
       "| 20 | 1 |\n",
       "| 19 | 5 |\n",
       "| 17 | 6 |\n",
       "|  5 | 7 |\n",
       "| ⋮ | ⋮ |\n",
       "|  8 | 32 |\n",
       "| 15 | 33 |\n",
       "|  0 | 38 |\n",
       "| 11 | 47 |\n",
       "| 10 | 56 |\n",
       "\n"
      ],
      "text/plain": [
       "   G3 n \n",
       "1   4 1 \n",
       "2  20 1 \n",
       "3  19 5 \n",
       "4  17 6 \n",
       "5   5 7 \n",
       "⋮  ⋮  ⋮ \n",
       "14  8 32\n",
       "15 15 33\n",
       "16  0 38\n",
       "17 11 47\n",
       "18 10 56"
      ]
     },
     "metadata": {},
     "output_type": "display_data"
    },
    {
     "data": {
      "image/png": "[encoded data removed]",
      "text/plain": [
       "plot without title"
      ]
     },
     "metadata": {
      "image/png": {
       "height": 420,
       "width": 420
      }
     },
     "output_type": "display_data"
    }
   ],
   "source": [
    "student_G3_count <- student_data %>%\n",
    "    group_by(G3) %>%\n",
    "    summarise(n = n())\n",
    "student_G3_count\n",
    "\n",
    "\n",
    "student_G3_count_plot <- ggplot(student_G3_count, aes(x = G3, y = n)) +\n",
    "    geom_bar(stat = \"identity\")\n",
    "student_G3_count_plot\n",
    "        \n",
    "student_G3_count %>% arrange(n)"
   ]
  },
  {
   "cell_type": "code",
   "execution_count": 6,
   "metadata": {},
   "outputs": [],
   "source": [
    "#turning grade into a factor\n",
    "\n",
    "# student_data_clean_temp <- student_data_clean %>%\n",
    "#     mutate(G3 = as.factor(G3)) %>%\n",
    "#     select(traveltime, studytime, absences, G3)\n",
    "# student_data_clean_temp\n",
    "# student_data_clean_temp_split <- initial_split(student_data_clean_temp)\n",
    "# student_train_temp <- training(student_data_clean_temp_split)\n",
    "# student_test_temp <- testing(student_data_clean_temp_split)\n",
    "\n",
    "# student_train_temp\n",
    "# student_test_temp\n",
    "\n",
    "# student_recipe <- recipe(G3 ~., data = student_train_temp) %>%\n",
    "#     step_scale(all_predictors()) %>%\n",
    "#     step_center(all_predictors())\n",
    "\n",
    "# student_vfold <- vfold_cv(student_train_temp, v = 5, strata = G3)\n",
    "\n",
    "# knn_tune <- nearest_neighbor(weight_func = \"rectangular\", neighbors = tune()) %>%\n",
    "#     set_engine(\"kknn\") %>%\n",
    "#     set_mode(\"classification\")\n",
    "\n",
    "# k_vals <- tibble(neighbors = seq(1:50))"
   ]
  },
  {
   "cell_type": "code",
   "execution_count": 7,
   "metadata": {},
   "outputs": [],
   "source": [
    "# knn_results <- workflow() %>%\n",
    "#     add_recipe(student_recipe) %>%\n",
    "#     add_model(knn_tune) %>%\n",
    "#     tune_grid(resamples = student_vfold, grid = k_vals) %>%\n",
    "#     collect_metrics\n",
    "# knn_results"
   ]
  },
  {
   "cell_type": "code",
   "execution_count": 8,
   "metadata": {},
   "outputs": [],
   "source": [
    "# accuracies <- knn_results %>%\n",
    "#     filter(.metric == \"accuracy\") %>%\n",
    "#     arrange(desc(mean))\n",
    "# accuracies\n",
    "\n",
    "# k_best <- accuracies %>%\n",
    "#     slice(1) %>%\n",
    "#     pull(neighbors)\n",
    "# k_best"
   ]
  },
  {
   "cell_type": "code",
   "execution_count": 9,
   "metadata": {},
   "outputs": [],
   "source": [
    "# student_spec <- nearest_neighbor(weight_fun = \"rectangular\", neighbors = k_best) %>%\n",
    "#     set_engine(\"kknn\") %>%\n",
    "#     set_mode(\"classification\")\n",
    "\n",
    "# student_model <- workflow() %>%\n",
    "#     add_recipe(student_recipe) %>%\n",
    "#     add_model(student_spec) %>%\n",
    "#     fit(student_train_temp)\n",
    "# # student_model\n",
    "\n",
    "# student_predictions <- predict(student_model, student_test_temp)\n",
    "# student_predictions\n",
    "\n",
    "# test <- student_predictions %>%\n",
    "#     group_by(.pred_class) %>%\n",
    "#     summarise(n = n())\n",
    "# test\n",
    "\n",
    "# bind_cols(student_predictions, student_test_temp)\n",
    "\n",
    "# results <- student_predictions %>%\n",
    "#     bind_cols(student_test_temp) %>%\n",
    "#     metrics(truth = G3, estimate = .pred_class)\n",
    "# results"
   ]
  },
  {
   "cell_type": "code",
   "execution_count": 51,
   "metadata": {},
   "outputs": [
    {
     "data": {
      "text/html": [
       "<table>\n",
       "<caption>A tibble: 395 × 5</caption>\n",
       "<thead>\n",
       "\t<tr><th scope=col>studytime</th><th scope=col>health</th><th scope=col>absences</th><th scope=col>failures</th><th scope=col>G3</th></tr>\n",
       "\t<tr><th scope=col>&lt;dbl&gt;</th><th scope=col>&lt;dbl&gt;</th><th scope=col>&lt;dbl&gt;</th><th scope=col>&lt;dbl&gt;</th><th scope=col>&lt;fct&gt;</th></tr>\n",
       "</thead>\n",
       "<tbody>\n",
       "\t<tr><td>2</td><td>3</td><td> 6</td><td>0</td><td>C</td></tr>\n",
       "\t<tr><td>2</td><td>3</td><td> 4</td><td>0</td><td>C</td></tr>\n",
       "\t<tr><td>2</td><td>3</td><td>10</td><td>3</td><td>B</td></tr>\n",
       "\t<tr><td>3</td><td>5</td><td> 2</td><td>0</td><td>A</td></tr>\n",
       "\t<tr><td>2</td><td>5</td><td> 4</td><td>0</td><td>B</td></tr>\n",
       "\t<tr><td>⋮</td><td>⋮</td><td>⋮</td><td>⋮</td><td>⋮</td></tr>\n",
       "\t<tr><td>2</td><td>4</td><td>11</td><td>2</td><td>C</td></tr>\n",
       "\t<tr><td>1</td><td>2</td><td> 3</td><td>0</td><td>A</td></tr>\n",
       "\t<tr><td>1</td><td>3</td><td> 3</td><td>3</td><td>C</td></tr>\n",
       "\t<tr><td>1</td><td>5</td><td> 0</td><td>0</td><td>B</td></tr>\n",
       "\t<tr><td>1</td><td>5</td><td> 5</td><td>0</td><td>C</td></tr>\n",
       "</tbody>\n",
       "</table>\n"
      ],
      "text/latex": [
       "A tibble: 395 × 5\n",
       "\\begin{tabular}{lllll}\n",
       " studytime & health & absences & failures & G3\\\\\n",
       " <dbl> & <dbl> & <dbl> & <dbl> & <fct>\\\\\n",
       "\\hline\n",
       "\t 2 & 3 &  6 & 0 & C\\\\\n",
       "\t 2 & 3 &  4 & 0 & C\\\\\n",
       "\t 2 & 3 & 10 & 3 & B\\\\\n",
       "\t 3 & 5 &  2 & 0 & A\\\\\n",
       "\t 2 & 5 &  4 & 0 & B\\\\\n",
       "\t ⋮ & ⋮ & ⋮ & ⋮ & ⋮\\\\\n",
       "\t 2 & 4 & 11 & 2 & C\\\\\n",
       "\t 1 & 2 &  3 & 0 & A\\\\\n",
       "\t 1 & 3 &  3 & 3 & C\\\\\n",
       "\t 1 & 5 &  0 & 0 & B\\\\\n",
       "\t 1 & 5 &  5 & 0 & C\\\\\n",
       "\\end{tabular}\n"
      ],
      "text/markdown": [
       "\n",
       "A tibble: 395 × 5\n",
       "\n",
       "| studytime &lt;dbl&gt; | health &lt;dbl&gt; | absences &lt;dbl&gt; | failures &lt;dbl&gt; | G3 &lt;fct&gt; |\n",
       "|---|---|---|---|---|\n",
       "| 2 | 3 |  6 | 0 | C |\n",
       "| 2 | 3 |  4 | 0 | C |\n",
       "| 2 | 3 | 10 | 3 | B |\n",
       "| 3 | 5 |  2 | 0 | A |\n",
       "| 2 | 5 |  4 | 0 | B |\n",
       "| ⋮ | ⋮ | ⋮ | ⋮ | ⋮ |\n",
       "| 2 | 4 | 11 | 2 | C |\n",
       "| 1 | 2 |  3 | 0 | A |\n",
       "| 1 | 3 |  3 | 3 | C |\n",
       "| 1 | 5 |  0 | 0 | B |\n",
       "| 1 | 5 |  5 | 0 | C |\n",
       "\n"
      ],
      "text/plain": [
       "    studytime health absences failures G3\n",
       "1   2         3       6       0        C \n",
       "2   2         3       4       0        C \n",
       "3   2         3      10       3        B \n",
       "4   3         5       2       0        A \n",
       "5   2         5       4       0        B \n",
       "⋮   ⋮         ⋮      ⋮        ⋮        ⋮ \n",
       "391 2         4      11       2        C \n",
       "392 1         2       3       0        A \n",
       "393 1         3       3       3        C \n",
       "394 1         5       0       0        B \n",
       "395 1         5       5       0        C "
      ]
     },
     "metadata": {},
     "output_type": "display_data"
    },
    {
     "name": "stderr",
     "output_type": "stream",
     "text": [
      "`summarise()` ungrouping output (override with `.groups` argument)\n",
      "\n"
     ]
    },
    {
     "data": {
      "text/html": [
       "<table>\n",
       "<caption>A tibble: 4 × 2</caption>\n",
       "<thead>\n",
       "\t<tr><th scope=col>G3</th><th scope=col>n</th></tr>\n",
       "\t<tr><th scope=col>&lt;fct&gt;</th><th scope=col>&lt;int&gt;</th></tr>\n",
       "</thead>\n",
       "<tbody>\n",
       "\t<tr><td>A</td><td> 73</td></tr>\n",
       "\t<tr><td>B</td><td>192</td></tr>\n",
       "\t<tr><td>C</td><td> 91</td></tr>\n",
       "\t<tr><td>D</td><td> 39</td></tr>\n",
       "</tbody>\n",
       "</table>\n"
      ],
      "text/latex": [
       "A tibble: 4 × 2\n",
       "\\begin{tabular}{ll}\n",
       " G3 & n\\\\\n",
       " <fct> & <int>\\\\\n",
       "\\hline\n",
       "\t A &  73\\\\\n",
       "\t B & 192\\\\\n",
       "\t C &  91\\\\\n",
       "\t D &  39\\\\\n",
       "\\end{tabular}\n"
      ],
      "text/markdown": [
       "\n",
       "A tibble: 4 × 2\n",
       "\n",
       "| G3 &lt;fct&gt; | n &lt;int&gt; |\n",
       "|---|---|\n",
       "| A |  73 |\n",
       "| B | 192 |\n",
       "| C |  91 |\n",
       "| D |  39 |\n",
       "\n"
      ],
      "text/plain": [
       "  G3 n  \n",
       "1 A   73\n",
       "2 B  192\n",
       "3 C   91\n",
       "4 D   39"
      ]
     },
     "metadata": {},
     "output_type": "display_data"
    }
   ],
   "source": [
    "#creating dataset and categorizing grade\n",
    "student_data_1 <- student_data %>%\n",
    "    select(studytime, health, absences, failures, G3)\n",
    "student_data_F <- mutate(student_data_1, G3 = case_when(G3 %in% (0:4) ~ \"D\",\n",
    "                                                       G3 %in% (5:9) ~ \"C\",\n",
    "                                                       G3 %in% (10:14) ~ \"B\",\n",
    "                                                       G3 %in% (15:20) ~ \"A\"),\n",
    "                        G3 = as.factor(G3))\n",
    "# student_data_F <- mutate(student_data_1, G3 = case_when(G3 %in% (0:9) ~ \"Fail\",\n",
    "#                                                        G3 %in% (10:20) ~ \"Pass\"),\n",
    "#                         G3 = as.factor(G3))\n",
    "student_data_F\n",
    "\n",
    "student_data_F_count <- student_data_F %>% group_by(G3) %>% summarise(n = n())\n",
    "student_data_F_count"
   ]
  },
  {
   "cell_type": "code",
   "execution_count": 11,
   "metadata": {},
   "outputs": [],
   "source": [
    "#splitting into training and testing set\n",
    "sdf_split <- initial_split(student_data_F, prop = 0.75, strata = G3)\n",
    "sdf_train <- training(sdf_split)\n",
    "sdf_test <- testing(sdf_split)\n",
    "\n",
    "#creating recipe, vfold, tune, and k_vals\n",
    "# sdf_train_up <- recipe(G3 ~., data = sdf_train) %>%\n",
    "#     step_upsample(G3, over_ratio = 1, skip = FALSE) %>%\n",
    "#     prep() %>%\n",
    "#     bake(sdf_train)\n",
    "# sdf_train_up\n",
    "# summarise(group_by(sdf_train_up, G3), n = n())\n",
    "\n",
    "sdf_recipe <- recipe(G3 ~., data = sdf_train) %>%\n",
    "    step_scale(all_predictors()) %>%\n",
    "    step_center(all_predictors())\n",
    "\n",
    "sdf_vfold<- vfold_cv(sdf_train, v = 5, strata = G3)\n",
    "\n",
    "sdf_tune <- nearest_neighbor(weight_fun = \"rectangular\", neighbors = tune()) %>%\n",
    "    set_engine(\"kknn\") %>%\n",
    "    set_mode(\"classification\")\n",
    "\n",
    "k_vals <- tibble(neighbors = seq(from = 1, to = 60, by = 5))\n"
   ]
  },
  {
   "cell_type": "code",
   "execution_count": 12,
   "metadata": {},
   "outputs": [
    {
     "data": {
      "text/html": [
       "<table>\n",
       "<caption>A tibble: 24 × 7</caption>\n",
       "<thead>\n",
       "\t<tr><th scope=col>neighbors</th><th scope=col>.metric</th><th scope=col>.estimator</th><th scope=col>mean</th><th scope=col>n</th><th scope=col>std_err</th><th scope=col>.config</th></tr>\n",
       "\t<tr><th scope=col>&lt;dbl&gt;</th><th scope=col>&lt;chr&gt;</th><th scope=col>&lt;chr&gt;</th><th scope=col>&lt;dbl&gt;</th><th scope=col>&lt;int&gt;</th><th scope=col>&lt;dbl&gt;</th><th scope=col>&lt;chr&gt;</th></tr>\n",
       "</thead>\n",
       "<tbody>\n",
       "\t<tr><td> 1</td><td>accuracy</td><td>multiclass</td><td>0.2935538</td><td>5</td><td>0.02257788</td><td>Model01</td></tr>\n",
       "\t<tr><td> 1</td><td>roc_auc </td><td>hand_till </td><td>0.4950316</td><td>5</td><td>0.01658236</td><td>Model01</td></tr>\n",
       "\t<tr><td> 6</td><td>accuracy</td><td>multiclass</td><td>0.3706425</td><td>5</td><td>0.01853185</td><td>Model02</td></tr>\n",
       "\t<tr><td> 6</td><td>roc_auc </td><td>hand_till </td><td>0.5540971</td><td>5</td><td>0.02233158</td><td>Model02</td></tr>\n",
       "\t<tr><td>11</td><td>accuracy</td><td>multiclass</td><td>0.4011080</td><td>5</td><td>0.02118437</td><td>Model03</td></tr>\n",
       "\t<tr><td>⋮</td><td>⋮</td><td>⋮</td><td>⋮</td><td>⋮</td><td>⋮</td><td>⋮</td></tr>\n",
       "\t<tr><td>46</td><td>roc_auc </td><td>hand_till </td><td>0.6429847</td><td>5</td><td>0.01157601</td><td>Model10</td></tr>\n",
       "\t<tr><td>51</td><td>accuracy</td><td>multiclass</td><td>0.4281195</td><td>5</td><td>0.01672911</td><td>Model11</td></tr>\n",
       "\t<tr><td>51</td><td>roc_auc </td><td>hand_till </td><td>0.6454034</td><td>5</td><td>0.01188004</td><td>Model11</td></tr>\n",
       "\t<tr><td>56</td><td>accuracy</td><td>multiclass</td><td>0.4582457</td><td>5</td><td>0.02333663</td><td>Model12</td></tr>\n",
       "\t<tr><td>56</td><td>roc_auc </td><td>hand_till </td><td>0.6454350</td><td>5</td><td>0.01683646</td><td>Model12</td></tr>\n",
       "</tbody>\n",
       "</table>\n"
      ],
      "text/latex": [
       "A tibble: 24 × 7\n",
       "\\begin{tabular}{lllllll}\n",
       " neighbors & .metric & .estimator & mean & n & std\\_err & .config\\\\\n",
       " <dbl> & <chr> & <chr> & <dbl> & <int> & <dbl> & <chr>\\\\\n",
       "\\hline\n",
       "\t  1 & accuracy & multiclass & 0.2935538 & 5 & 0.02257788 & Model01\\\\\n",
       "\t  1 & roc\\_auc  & hand\\_till  & 0.4950316 & 5 & 0.01658236 & Model01\\\\\n",
       "\t  6 & accuracy & multiclass & 0.3706425 & 5 & 0.01853185 & Model02\\\\\n",
       "\t  6 & roc\\_auc  & hand\\_till  & 0.5540971 & 5 & 0.02233158 & Model02\\\\\n",
       "\t 11 & accuracy & multiclass & 0.4011080 & 5 & 0.02118437 & Model03\\\\\n",
       "\t ⋮ & ⋮ & ⋮ & ⋮ & ⋮ & ⋮ & ⋮\\\\\n",
       "\t 46 & roc\\_auc  & hand\\_till  & 0.6429847 & 5 & 0.01157601 & Model10\\\\\n",
       "\t 51 & accuracy & multiclass & 0.4281195 & 5 & 0.01672911 & Model11\\\\\n",
       "\t 51 & roc\\_auc  & hand\\_till  & 0.6454034 & 5 & 0.01188004 & Model11\\\\\n",
       "\t 56 & accuracy & multiclass & 0.4582457 & 5 & 0.02333663 & Model12\\\\\n",
       "\t 56 & roc\\_auc  & hand\\_till  & 0.6454350 & 5 & 0.01683646 & Model12\\\\\n",
       "\\end{tabular}\n"
      ],
      "text/markdown": [
       "\n",
       "A tibble: 24 × 7\n",
       "\n",
       "| neighbors &lt;dbl&gt; | .metric &lt;chr&gt; | .estimator &lt;chr&gt; | mean &lt;dbl&gt; | n &lt;int&gt; | std_err &lt;dbl&gt; | .config &lt;chr&gt; |\n",
       "|---|---|---|---|---|---|---|\n",
       "|  1 | accuracy | multiclass | 0.2935538 | 5 | 0.02257788 | Model01 |\n",
       "|  1 | roc_auc  | hand_till  | 0.4950316 | 5 | 0.01658236 | Model01 |\n",
       "|  6 | accuracy | multiclass | 0.3706425 | 5 | 0.01853185 | Model02 |\n",
       "|  6 | roc_auc  | hand_till  | 0.5540971 | 5 | 0.02233158 | Model02 |\n",
       "| 11 | accuracy | multiclass | 0.4011080 | 5 | 0.02118437 | Model03 |\n",
       "| ⋮ | ⋮ | ⋮ | ⋮ | ⋮ | ⋮ | ⋮ |\n",
       "| 46 | roc_auc  | hand_till  | 0.6429847 | 5 | 0.01157601 | Model10 |\n",
       "| 51 | accuracy | multiclass | 0.4281195 | 5 | 0.01672911 | Model11 |\n",
       "| 51 | roc_auc  | hand_till  | 0.6454034 | 5 | 0.01188004 | Model11 |\n",
       "| 56 | accuracy | multiclass | 0.4582457 | 5 | 0.02333663 | Model12 |\n",
       "| 56 | roc_auc  | hand_till  | 0.6454350 | 5 | 0.01683646 | Model12 |\n",
       "\n"
      ],
      "text/plain": [
       "   neighbors .metric  .estimator mean      n std_err    .config\n",
       "1   1        accuracy multiclass 0.2935538 5 0.02257788 Model01\n",
       "2   1        roc_auc  hand_till  0.4950316 5 0.01658236 Model01\n",
       "3   6        accuracy multiclass 0.3706425 5 0.01853185 Model02\n",
       "4   6        roc_auc  hand_till  0.5540971 5 0.02233158 Model02\n",
       "5  11        accuracy multiclass 0.4011080 5 0.02118437 Model03\n",
       "⋮  ⋮         ⋮        ⋮          ⋮         ⋮ ⋮          ⋮      \n",
       "20 46        roc_auc  hand_till  0.6429847 5 0.01157601 Model10\n",
       "21 51        accuracy multiclass 0.4281195 5 0.01672911 Model11\n",
       "22 51        roc_auc  hand_till  0.6454034 5 0.01188004 Model11\n",
       "23 56        accuracy multiclass 0.4582457 5 0.02333663 Model12\n",
       "24 56        roc_auc  hand_till  0.6454350 5 0.01683646 Model12"
      ]
     },
     "metadata": {},
     "output_type": "display_data"
    }
   ],
   "source": [
    "#calculating best k\n",
    "sdf_results <- workflow() %>%\n",
    "    add_recipe(sdf_recipe) %>%\n",
    "    add_model(sdf_tune) %>%\n",
    "    tune_grid(resamples = sdf_vfold, grid = k_vals) %>%\n",
    "    collect_metrics\n",
    "sdf_results"
   ]
  },
  {
   "cell_type": "code",
   "execution_count": 13,
   "metadata": {},
   "outputs": [
    {
     "data": {
      "image/png": "[encoded data removed]",
      "text/plain": [
       "plot without title"
      ]
     },
     "metadata": {
      "image/png": {
       "height": 420,
       "width": 420
      }
     },
     "output_type": "display_data"
    }
   ],
   "source": [
    "sdf_results %>%\n",
    "    filter(.metric == \"accuracy\") %>%\n",
    "    ggplot(aes(x = neighbors, y = mean)) +\n",
    "        geom_point()"
   ]
  },
  {
   "cell_type": "code",
   "execution_count": 14,
   "metadata": {},
   "outputs": [
    {
     "data": {
      "text/html": [
       "<table>\n",
       "<caption>A tibble: 12 × 7</caption>\n",
       "<thead>\n",
       "\t<tr><th scope=col>neighbors</th><th scope=col>.metric</th><th scope=col>.estimator</th><th scope=col>mean</th><th scope=col>n</th><th scope=col>std_err</th><th scope=col>.config</th></tr>\n",
       "\t<tr><th scope=col>&lt;dbl&gt;</th><th scope=col>&lt;chr&gt;</th><th scope=col>&lt;chr&gt;</th><th scope=col>&lt;dbl&gt;</th><th scope=col>&lt;int&gt;</th><th scope=col>&lt;dbl&gt;</th><th scope=col>&lt;chr&gt;</th></tr>\n",
       "</thead>\n",
       "<tbody>\n",
       "\t<tr><td>36</td><td>accuracy</td><td>multiclass</td><td>0.4650820</td><td>5</td><td>0.02034127</td><td>Model08</td></tr>\n",
       "\t<tr><td>31</td><td>accuracy</td><td>multiclass</td><td>0.4619182</td><td>5</td><td>0.02214019</td><td>Model07</td></tr>\n",
       "\t<tr><td>56</td><td>accuracy</td><td>multiclass</td><td>0.4582457</td><td>5</td><td>0.02333663</td><td>Model12</td></tr>\n",
       "\t<tr><td>26</td><td>accuracy</td><td>multiclass</td><td>0.4550217</td><td>5</td><td>0.02158442</td><td>Model06</td></tr>\n",
       "\t<tr><td>41</td><td>accuracy</td><td>multiclass</td><td>0.4482947</td><td>5</td><td>0.01581595</td><td>Model09</td></tr>\n",
       "\t<tr><td>⋮</td><td>⋮</td><td>⋮</td><td>⋮</td><td>⋮</td><td>⋮</td><td>⋮</td></tr>\n",
       "\t<tr><td>51</td><td>accuracy</td><td>multiclass</td><td>0.4281195</td><td>5</td><td>0.01672911</td><td>Model11</td></tr>\n",
       "\t<tr><td>46</td><td>accuracy</td><td>multiclass</td><td>0.4213925</td><td>5</td><td>0.01717332</td><td>Model10</td></tr>\n",
       "\t<tr><td>11</td><td>accuracy</td><td>multiclass</td><td>0.4011080</td><td>5</td><td>0.02118437</td><td>Model03</td></tr>\n",
       "\t<tr><td> 6</td><td>accuracy</td><td>multiclass</td><td>0.3706425</td><td>5</td><td>0.01853185</td><td>Model02</td></tr>\n",
       "\t<tr><td> 1</td><td>accuracy</td><td>multiclass</td><td>0.2935538</td><td>5</td><td>0.02257788</td><td>Model01</td></tr>\n",
       "</tbody>\n",
       "</table>\n"
      ],
      "text/latex": [
       "A tibble: 12 × 7\n",
       "\\begin{tabular}{lllllll}\n",
       " neighbors & .metric & .estimator & mean & n & std\\_err & .config\\\\\n",
       " <dbl> & <chr> & <chr> & <dbl> & <int> & <dbl> & <chr>\\\\\n",
       "\\hline\n",
       "\t 36 & accuracy & multiclass & 0.4650820 & 5 & 0.02034127 & Model08\\\\\n",
       "\t 31 & accuracy & multiclass & 0.4619182 & 5 & 0.02214019 & Model07\\\\\n",
       "\t 56 & accuracy & multiclass & 0.4582457 & 5 & 0.02333663 & Model12\\\\\n",
       "\t 26 & accuracy & multiclass & 0.4550217 & 5 & 0.02158442 & Model06\\\\\n",
       "\t 41 & accuracy & multiclass & 0.4482947 & 5 & 0.01581595 & Model09\\\\\n",
       "\t ⋮ & ⋮ & ⋮ & ⋮ & ⋮ & ⋮ & ⋮\\\\\n",
       "\t 51 & accuracy & multiclass & 0.4281195 & 5 & 0.01672911 & Model11\\\\\n",
       "\t 46 & accuracy & multiclass & 0.4213925 & 5 & 0.01717332 & Model10\\\\\n",
       "\t 11 & accuracy & multiclass & 0.4011080 & 5 & 0.02118437 & Model03\\\\\n",
       "\t  6 & accuracy & multiclass & 0.3706425 & 5 & 0.01853185 & Model02\\\\\n",
       "\t  1 & accuracy & multiclass & 0.2935538 & 5 & 0.02257788 & Model01\\\\\n",
       "\\end{tabular}\n"
      ],
      "text/markdown": [
       "\n",
       "A tibble: 12 × 7\n",
       "\n",
       "| neighbors &lt;dbl&gt; | .metric &lt;chr&gt; | .estimator &lt;chr&gt; | mean &lt;dbl&gt; | n &lt;int&gt; | std_err &lt;dbl&gt; | .config &lt;chr&gt; |\n",
       "|---|---|---|---|---|---|---|\n",
       "| 36 | accuracy | multiclass | 0.4650820 | 5 | 0.02034127 | Model08 |\n",
       "| 31 | accuracy | multiclass | 0.4619182 | 5 | 0.02214019 | Model07 |\n",
       "| 56 | accuracy | multiclass | 0.4582457 | 5 | 0.02333663 | Model12 |\n",
       "| 26 | accuracy | multiclass | 0.4550217 | 5 | 0.02158442 | Model06 |\n",
       "| 41 | accuracy | multiclass | 0.4482947 | 5 | 0.01581595 | Model09 |\n",
       "| ⋮ | ⋮ | ⋮ | ⋮ | ⋮ | ⋮ | ⋮ |\n",
       "| 51 | accuracy | multiclass | 0.4281195 | 5 | 0.01672911 | Model11 |\n",
       "| 46 | accuracy | multiclass | 0.4213925 | 5 | 0.01717332 | Model10 |\n",
       "| 11 | accuracy | multiclass | 0.4011080 | 5 | 0.02118437 | Model03 |\n",
       "|  6 | accuracy | multiclass | 0.3706425 | 5 | 0.01853185 | Model02 |\n",
       "|  1 | accuracy | multiclass | 0.2935538 | 5 | 0.02257788 | Model01 |\n",
       "\n"
      ],
      "text/plain": [
       "   neighbors .metric  .estimator mean      n std_err    .config\n",
       "1  36        accuracy multiclass 0.4650820 5 0.02034127 Model08\n",
       "2  31        accuracy multiclass 0.4619182 5 0.02214019 Model07\n",
       "3  56        accuracy multiclass 0.4582457 5 0.02333663 Model12\n",
       "4  26        accuracy multiclass 0.4550217 5 0.02158442 Model06\n",
       "5  41        accuracy multiclass 0.4482947 5 0.01581595 Model09\n",
       "⋮  ⋮         ⋮        ⋮          ⋮         ⋮ ⋮          ⋮      \n",
       "8  51        accuracy multiclass 0.4281195 5 0.01672911 Model11\n",
       "9  46        accuracy multiclass 0.4213925 5 0.01717332 Model10\n",
       "10 11        accuracy multiclass 0.4011080 5 0.02118437 Model03\n",
       "11  6        accuracy multiclass 0.3706425 5 0.01853185 Model02\n",
       "12  1        accuracy multiclass 0.2935538 5 0.02257788 Model01"
      ]
     },
     "metadata": {},
     "output_type": "display_data"
    },
    {
     "data": {
      "text/html": [
       "36"
      ],
      "text/latex": [
       "36"
      ],
      "text/markdown": [
       "36"
      ],
      "text/plain": [
       "[1] 36"
      ]
     },
     "metadata": {},
     "output_type": "display_data"
    }
   ],
   "source": [
    "#pulling out best k (usually 21/26)\n",
    "sdf_accuracies <- sdf_results %>%\n",
    "    filter(.metric == \"accuracy\") %>%\n",
    "    arrange(desc(mean))\n",
    "sdf_accuracies\n",
    "\n",
    "sdf_k_best <- sdf_accuracies %>%\n",
    "    slice(1) %>%\n",
    "    pull(neighbors)\n",
    "sdf_k_best"
   ]
  },
  {
   "cell_type": "code",
   "execution_count": 15,
   "metadata": {},
   "outputs": [
    {
     "data": {
      "text/html": [
       "<table>\n",
       "<caption>A tibble: 2 × 3</caption>\n",
       "<thead>\n",
       "\t<tr><th scope=col>.metric</th><th scope=col>.estimator</th><th scope=col>.estimate</th></tr>\n",
       "\t<tr><th scope=col>&lt;chr&gt;</th><th scope=col>&lt;chr&gt;</th><th scope=col>&lt;dbl&gt;</th></tr>\n",
       "</thead>\n",
       "<tbody>\n",
       "\t<tr><td>accuracy</td><td>multiclass</td><td>0.3571429</td></tr>\n",
       "\t<tr><td>kap     </td><td>multiclass</td><td>0.0156250</td></tr>\n",
       "</tbody>\n",
       "</table>\n"
      ],
      "text/latex": [
       "A tibble: 2 × 3\n",
       "\\begin{tabular}{lll}\n",
       " .metric & .estimator & .estimate\\\\\n",
       " <chr> & <chr> & <dbl>\\\\\n",
       "\\hline\n",
       "\t accuracy & multiclass & 0.3571429\\\\\n",
       "\t kap      & multiclass & 0.0156250\\\\\n",
       "\\end{tabular}\n"
      ],
      "text/markdown": [
       "\n",
       "A tibble: 2 × 3\n",
       "\n",
       "| .metric &lt;chr&gt; | .estimator &lt;chr&gt; | .estimate &lt;dbl&gt; |\n",
       "|---|---|---|\n",
       "| accuracy | multiclass | 0.3571429 |\n",
       "| kap      | multiclass | 0.0156250 |\n",
       "\n"
      ],
      "text/plain": [
       "  .metric  .estimator .estimate\n",
       "1 accuracy multiclass 0.3571429\n",
       "2 kap      multiclass 0.0156250"
      ]
     },
     "metadata": {},
     "output_type": "display_data"
    }
   ],
   "source": [
    "#testing accuracy on testing set (usually around 50%)\n",
    "sdf_spec <- nearest_neighbor(weight_func = \"rectangular\", neighbors = sdf_k_best) %>%\n",
    "    set_engine(\"kknn\") %>%\n",
    "    set_mode(\"classification\")\n",
    "\n",
    "sdf_model <- workflow() %>%\n",
    "    add_recipe(sdf_recipe) %>%\n",
    "    add_model(sdf_spec) %>%\n",
    "    fit(sdf_train)\n",
    "\n",
    "sdf_predictions <- predict(sdf_model, sdf_test)\n",
    "\n",
    "sdf_results <- sdf_predictions %>%\n",
    "    bind_cols(sdf_test) %>%\n",
    "    metrics(truth = G3, estimate = .pred_class)\n",
    "sdf_results"
   ]
  },
  {
   "cell_type": "markdown",
   "metadata": {},
   "source": [
    "With 4 categories (0:4 = F, 5:9 = C, 10:14 = B, 15:20 = A)\n",
    "best k is usually around 21/26, accuracy was around 50%\n",
    "\n",
    "with 5 categories (0:3 = F, 4:7 = D, 8:11 = C, 12:15 = B, 16:20 = A)\n",
    "best k is usually around 21 to 31, accuracy is around 40%\n",
    "\n",
    "using only two categories (0:9 = fail, 10:20 = pass), accuracy is around 40 - 50\n",
    "\n",
    "If data is upsampled, best k is always 1, data is overfit"
   ]
  },
  {
   "cell_type": "code",
   "execution_count": 58,
   "metadata": {},
   "outputs": [
    {
     "data": {
      "text/html": [
       "<table>\n",
       "<caption>A tibble: 395 × 5</caption>\n",
       "<thead>\n",
       "\t<tr><th scope=col>studytime</th><th scope=col>health</th><th scope=col>absences</th><th scope=col>failures</th><th scope=col>G3</th></tr>\n",
       "\t<tr><th scope=col>&lt;dbl&gt;</th><th scope=col>&lt;dbl&gt;</th><th scope=col>&lt;dbl&gt;</th><th scope=col>&lt;dbl&gt;</th><th scope=col>&lt;fct&gt;</th></tr>\n",
       "</thead>\n",
       "<tbody>\n",
       "\t<tr><td>2</td><td>3</td><td> 6</td><td>0</td><td>C</td></tr>\n",
       "\t<tr><td>2</td><td>3</td><td> 4</td><td>0</td><td>C</td></tr>\n",
       "\t<tr><td>2</td><td>3</td><td>10</td><td>3</td><td>B</td></tr>\n",
       "\t<tr><td>3</td><td>5</td><td> 2</td><td>0</td><td>A</td></tr>\n",
       "\t<tr><td>2</td><td>5</td><td> 4</td><td>0</td><td>B</td></tr>\n",
       "\t<tr><td>⋮</td><td>⋮</td><td>⋮</td><td>⋮</td><td>⋮</td></tr>\n",
       "\t<tr><td>2</td><td>4</td><td>11</td><td>2</td><td>C</td></tr>\n",
       "\t<tr><td>1</td><td>2</td><td> 3</td><td>0</td><td>A</td></tr>\n",
       "\t<tr><td>1</td><td>3</td><td> 3</td><td>3</td><td>C</td></tr>\n",
       "\t<tr><td>1</td><td>5</td><td> 0</td><td>0</td><td>B</td></tr>\n",
       "\t<tr><td>1</td><td>5</td><td> 5</td><td>0</td><td>C</td></tr>\n",
       "</tbody>\n",
       "</table>\n"
      ],
      "text/latex": [
       "A tibble: 395 × 5\n",
       "\\begin{tabular}{lllll}\n",
       " studytime & health & absences & failures & G3\\\\\n",
       " <dbl> & <dbl> & <dbl> & <dbl> & <fct>\\\\\n",
       "\\hline\n",
       "\t 2 & 3 &  6 & 0 & C\\\\\n",
       "\t 2 & 3 &  4 & 0 & C\\\\\n",
       "\t 2 & 3 & 10 & 3 & B\\\\\n",
       "\t 3 & 5 &  2 & 0 & A\\\\\n",
       "\t 2 & 5 &  4 & 0 & B\\\\\n",
       "\t ⋮ & ⋮ & ⋮ & ⋮ & ⋮\\\\\n",
       "\t 2 & 4 & 11 & 2 & C\\\\\n",
       "\t 1 & 2 &  3 & 0 & A\\\\\n",
       "\t 1 & 3 &  3 & 3 & C\\\\\n",
       "\t 1 & 5 &  0 & 0 & B\\\\\n",
       "\t 1 & 5 &  5 & 0 & C\\\\\n",
       "\\end{tabular}\n"
      ],
      "text/markdown": [
       "\n",
       "A tibble: 395 × 5\n",
       "\n",
       "| studytime &lt;dbl&gt; | health &lt;dbl&gt; | absences &lt;dbl&gt; | failures &lt;dbl&gt; | G3 &lt;fct&gt; |\n",
       "|---|---|---|---|---|\n",
       "| 2 | 3 |  6 | 0 | C |\n",
       "| 2 | 3 |  4 | 0 | C |\n",
       "| 2 | 3 | 10 | 3 | B |\n",
       "| 3 | 5 |  2 | 0 | A |\n",
       "| 2 | 5 |  4 | 0 | B |\n",
       "| ⋮ | ⋮ | ⋮ | ⋮ | ⋮ |\n",
       "| 2 | 4 | 11 | 2 | C |\n",
       "| 1 | 2 |  3 | 0 | A |\n",
       "| 1 | 3 |  3 | 3 | C |\n",
       "| 1 | 5 |  0 | 0 | B |\n",
       "| 1 | 5 |  5 | 0 | C |\n",
       "\n"
      ],
      "text/plain": [
       "    studytime health absences failures G3\n",
       "1   2         3       6       0        C \n",
       "2   2         3       4       0        C \n",
       "3   2         3      10       3        B \n",
       "4   3         5       2       0        A \n",
       "5   2         5       4       0        B \n",
       "⋮   ⋮         ⋮      ⋮        ⋮        ⋮ \n",
       "391 2         4      11       2        C \n",
       "392 1         2       3       0        A \n",
       "393 1         3       3       3        C \n",
       "394 1         5       0       0        B \n",
       "395 1         5       5       0        C "
      ]
     },
     "metadata": {},
     "output_type": "display_data"
    },
    {
     "name": "stderr",
     "output_type": "stream",
     "text": [
      "`summarise()` regrouping output by 'studytime' (override with `.groups` argument)\n",
      "\n",
      "`summarise()` regrouping output by 'health' (override with `.groups` argument)\n",
      "\n"
     ]
    },
    {
     "data": {
      "image/png": "[encoded data removed]",
      "text/plain": [
       "plot without title"
      ]
     },
     "metadata": {
      "image/png": {
       "height": 420,
       "width": 420
      }
     },
     "output_type": "display_data"
    },
    {
     "name": "stderr",
     "output_type": "stream",
     "text": [
      "`summarise()` regrouping output by 'failures' (override with `.groups` argument)\n",
      "\n"
     ]
    },
    {
     "data": {
      "image/png": "[encoded data removed]",
      "text/plain": [
       "plot without title"
      ]
     },
     "metadata": {
      "image/png": {
       "height": 420,
       "width": 420
      }
     },
     "output_type": "display_data"
    },
    {
     "data": {
      "image/png": "[encoded data removed]",
      "text/plain": [
       "plot without title"
      ]
     },
     "metadata": {
      "image/png": {
       "height": 420,
       "width": 420
      }
     },
     "output_type": "display_data"
    }
   ],
   "source": [
    "student_data_F\n",
    "\n",
    "studytime_percent <- student_data_F %>%\n",
    "    group_by(studytime, G3) %>%\n",
    "    summarise(count = n()) %>%\n",
    "    mutate(percent = count/sum(count))\n",
    "\n",
    "# studytime_percent\n",
    "\n",
    "ggplot(studytime_percent, aes(x = G3, y = percent, fill = factor(studytime))) +\n",
    "    geom_bar(stat = \"identity\") +\n",
    "    xlab(\"Final Grade\") + \n",
    "    ylab(\"Percent of Students\") + \n",
    "    labs(fill = \"study time(hrs)\") +\n",
    "    ggtitle(\"Distribution of Grades (study time)\") +\n",
    "    theme(text = element_text(size = 20)) +\n",
    "    facet_grid(.~studytime)\n",
    "\n",
    "\n",
    "\n",
    "health_percent <- student_data_F %>%\n",
    "    group_by(health, G3) %>%\n",
    "    summarise(count = n()) %>%\n",
    "    mutate(percent = count/sum(count))\n",
    "\n",
    "# health_percent\n",
    "\n",
    "ggplot(health_percent, aes(x = G3, y = percent, fill = factor(health))) +\n",
    "    geom_bar(stat = \"identity\") +\n",
    "    xlab(\"Final Grade\") + \n",
    "    ylab(\"Percent of Students\") + \n",
    "    labs(fill = \"health\") +\n",
    "    ggtitle(\"Distribution of Grades (health)\") +\n",
    "    theme(text = element_text(size = 20)) +\n",
    "    facet_grid(.~health)\n",
    "\n",
    "\n",
    "\n",
    "failures_percent <- student_data_F %>%\n",
    "    group_by(failures, G3) %>%\n",
    "    summarise(count = n()) %>%\n",
    "    mutate(percent = count/sum(count))\n",
    "\n",
    "# failures_percent\n",
    "\n",
    "ggplot(failures_percent, aes(x = G3, y = percent, fill = factor(failures))) +\n",
    "    geom_bar(stat = \"identity\") +\n",
    "    xlab(\"Final Grade\") + \n",
    "    ylab(\"Percent of Students\") + \n",
    "    labs(fill = \"failures\") +\n",
    "    ggtitle(\"Distribution of Grades (failures)\") +\n",
    "    theme(text = element_text(size = 20)) +\n",
    "    facet_grid(.~failures)"
   ]
  },
  {
   "cell_type": "code",
   "execution_count": 34,
   "metadata": {},
   "outputs": [
    {
     "data": {
      "text/html": [
       "\n",
       "<table width=\"100%\" summary=\"page for sum {base}\"><tr><td>sum {base}</td><td style=\"text-align: right;\">R Documentation</td></tr></table>\n",
       "\n",
       "<h2>Sum of Vector Elements</h2>\n",
       "\n",
       "<h3>Description</h3>\n",
       "\n",
       "<p><code>sum</code> returns the sum of all the values\n",
       "present in its arguments.\n",
       "</p>\n",
       "\n",
       "\n",
       "<h3>Usage</h3>\n",
       "\n",
       "<pre>\n",
       "sum(..., na.rm = FALSE)\n",
       "</pre>\n",
       "\n",
       "\n",
       "<h3>Arguments</h3>\n",
       "\n",
       "<table summary=\"R argblock\">\n",
       "<tr valign=\"top\"><td><code>...</code></td>\n",
       "<td>\n",
       "<p>numeric or complex or logical vectors.</p>\n",
       "</td></tr>\n",
       "<tr valign=\"top\"><td><code>na.rm</code></td>\n",
       "<td>\n",
       "<p>logical.  Should missing values (including <code>NaN</code>) be\n",
       "removed?</p>\n",
       "</td></tr>\n",
       "</table>\n",
       "\n",
       "\n",
       "<h3>Details</h3>\n",
       "\n",
       "<p>This is a generic function: methods can be defined for it\n",
       "directly or via the <code>Summary</code> group generic.\n",
       "For this to work properly, the arguments <code>...</code> should be\n",
       "unnamed, and dispatch is on the first argument.\n",
       "</p>\n",
       "<p>If <code>na.rm</code> is <code>FALSE</code> an <code>NA</code> or <code>NaN</code> value in\n",
       "any of the arguments will cause a value of <code>NA</code> or <code>NaN</code> to\n",
       "be returned, otherwise <code>NA</code> and <code>NaN</code> values are ignored.\n",
       "</p>\n",
       "<p>Logical true values are regarded as one, false values as zero.\n",
       "For historical reasons, <code>NULL</code> is accepted and treated as if it\n",
       "were <code>integer(0)</code>.\n",
       "</p>\n",
       "<p>Loss of accuracy can occur when summing values of different signs:\n",
       "this can even occur for sufficiently long integer inputs if the\n",
       "partial sums would cause integer overflow.  Where possible\n",
       "extended-precision accumulators are used, typically well supported\n",
       "with C99 and newer, but possibly platform-dependent.\n",
       "</p>\n",
       "\n",
       "\n",
       "<h3>Value</h3>\n",
       "\n",
       "<p>The sum.  If all of the <code>...</code> arguments are of type\n",
       "integer or logical, then the sum is <code>integer</code> when\n",
       "possible and is <code>double</code> otherwise.  Integer overflow should no\n",
       "longer happen since <span style=\"font-family: Courier New, Courier; color: #666666;\"><b>R</b></span> version 3.5.0.\n",
       "For other argument types it is a length-one numeric\n",
       "(<code>double</code>) or complex vector.\n",
       "</p>\n",
       "<p><strong>NB:</strong> the sum of an empty set is zero, by definition.\n",
       "</p>\n",
       "\n",
       "\n",
       "<h3>S4 methods</h3>\n",
       "\n",
       "<p>This is part of the S4 <code>Summary</code>\n",
       "group generic.  Methods for it must use the signature\n",
       "<code>x, ..., na.rm</code>.\n",
       "</p>\n",
       "<p>&lsquo;plotmath&rsquo; for the use of <code>sum</code> in plot annotation.\n",
       "</p>\n",
       "\n",
       "\n",
       "<h3>References</h3>\n",
       "\n",
       "<p>Becker, R. A., Chambers, J. M. and Wilks, A. R. (1988)\n",
       "<em>The New S Language</em>.\n",
       "Wadsworth &amp; Brooks/Cole.\n",
       "</p>\n",
       "\n",
       "\n",
       "<h3>See Also</h3>\n",
       "\n",
       "<p><code>colSums</code> for row and column sums.\n",
       "</p>\n",
       "\n",
       "\n",
       "<h3>Examples</h3>\n",
       "\n",
       "<pre>\n",
       "## Pass a vector to sum, and it will add the elements together.\n",
       "sum(1:5)\n",
       "\n",
       "## Pass several numbers to sum, and it also adds the elements.\n",
       "sum(1, 2, 3, 4, 5)\n",
       "\n",
       "## In fact, you can pass vectors into several arguments, and everything gets added.\n",
       "sum(1:2, 3:5)\n",
       "\n",
       "## If there are missing values, the sum is unknown, i.e., also missing, ....\n",
       "sum(1:5, NA)\n",
       "## ... unless  we exclude missing values explicitly:\n",
       "sum(1:5, NA, na.rm = TRUE)\n",
       "</pre>\n",
       "\n",
       "<hr /><div style=\"text-align: center;\">[Package <em>base</em> version 4.0.0 ]</div>"
      ],
      "text/latex": [
       "\\inputencoding{utf8}\n",
       "\\HeaderA{sum}{Sum of Vector Elements}{sum}\n",
       "\\keyword{arith}{sum}\n",
       "%\n",
       "\\begin{Description}\\relax\n",
       "\\code{sum} returns the sum of all the values\n",
       "present in its arguments.\n",
       "\\end{Description}\n",
       "%\n",
       "\\begin{Usage}\n",
       "\\begin{verbatim}\n",
       "sum(..., na.rm = FALSE)\n",
       "\\end{verbatim}\n",
       "\\end{Usage}\n",
       "%\n",
       "\\begin{Arguments}\n",
       "\\begin{ldescription}\n",
       "\\item[\\code{...}] numeric or complex or logical vectors.\n",
       "\\item[\\code{na.rm}] logical.  Should missing values (including \\code{NaN}) be\n",
       "removed?\n",
       "\\end{ldescription}\n",
       "\\end{Arguments}\n",
       "%\n",
       "\\begin{Details}\\relax\n",
       "This is a generic function: methods can be defined for it\n",
       "directly or via the \\code{\\LinkA{Summary}{S3groupGeneric}} group generic.\n",
       "For this to work properly, the arguments \\code{...} should be\n",
       "unnamed, and dispatch is on the first argument.\n",
       "\n",
       "If \\code{na.rm} is \\code{FALSE} an \\code{NA} or \\code{NaN} value in\n",
       "any of the arguments will cause a value of \\code{NA} or \\code{NaN} to\n",
       "be returned, otherwise \\code{NA} and \\code{NaN} values are ignored.\n",
       "\n",
       "Logical true values are regarded as one, false values as zero.\n",
       "For historical reasons, \\code{NULL} is accepted and treated as if it\n",
       "were \\code{integer(0)}.\n",
       "\n",
       "Loss of accuracy can occur when summing values of different signs:\n",
       "this can even occur for sufficiently long integer inputs if the\n",
       "partial sums would cause integer overflow.  Where possible\n",
       "extended-precision accumulators are used, typically well supported\n",
       "with C99 and newer, but possibly platform-dependent.\n",
       "\\end{Details}\n",
       "%\n",
       "\\begin{Value}\n",
       "The sum.  If all of the \\code{...} arguments are of type\n",
       "integer or logical, then the sum is \\code{\\LinkA{integer}{integer}} when\n",
       "possible and is \\code{double} otherwise.  Integer overflow should no\n",
       "longer happen since \\R{} version 3.5.0.\n",
       "For other argument types it is a length-one numeric\n",
       "(\\code{\\LinkA{double}{double}}) or complex vector.\n",
       "\n",
       "\\strong{NB:} the sum of an empty set is zero, by definition.\n",
       "\\end{Value}\n",
       "%\n",
       "\\begin{Section}{S4 methods}\n",
       "This is part of the S4 \\code{\\LinkA{Summary}{S4groupGeneric}}\n",
       "group generic.  Methods for it must use the signature\n",
       "\\code{x, ..., na.rm}.\n",
       "\n",
       "`\\LinkA{plotmath}{plotmath}' for the use of \\code{sum} in plot annotation.\n",
       "\\end{Section}\n",
       "%\n",
       "\\begin{References}\\relax\n",
       "Becker, R. A., Chambers, J. M. and Wilks, A. R. (1988)\n",
       "\\emph{The New S Language}.\n",
       "Wadsworth \\& Brooks/Cole.\n",
       "\\end{References}\n",
       "%\n",
       "\\begin{SeeAlso}\\relax\n",
       "\\code{\\LinkA{colSums}{colSums}} for row and column sums.\n",
       "\\end{SeeAlso}\n",
       "%\n",
       "\\begin{Examples}\n",
       "\\begin{ExampleCode}\n",
       "\n",
       "## Pass a vector to sum, and it will add the elements together.\n",
       "sum(1:5)\n",
       "\n",
       "## Pass several numbers to sum, and it also adds the elements.\n",
       "sum(1, 2, 3, 4, 5)\n",
       "\n",
       "## In fact, you can pass vectors into several arguments, and everything gets added.\n",
       "sum(1:2, 3:5)\n",
       "\n",
       "## If there are missing values, the sum is unknown, i.e., also missing, ....\n",
       "sum(1:5, NA)\n",
       "## ... unless  we exclude missing values explicitly:\n",
       "sum(1:5, NA, na.rm = TRUE)\n",
       "\\end{ExampleCode}\n",
       "\\end{Examples}"
      ],
      "text/plain": [
       "sum                    package:base                    R Documentation\n",
       "\n",
       "_\bS_\bu_\bm _\bo_\bf _\bV_\be_\bc_\bt_\bo_\br _\bE_\bl_\be_\bm_\be_\bn_\bt_\bs\n",
       "\n",
       "_\bD_\be_\bs_\bc_\br_\bi_\bp_\bt_\bi_\bo_\bn:\n",
       "\n",
       "     ‘sum’ returns the sum of all the values present in its arguments.\n",
       "\n",
       "_\bU_\bs_\ba_\bg_\be:\n",
       "\n",
       "     sum(..., na.rm = FALSE)\n",
       "     \n",
       "_\bA_\br_\bg_\bu_\bm_\be_\bn_\bt_\bs:\n",
       "\n",
       "     ...: numeric or complex or logical vectors.\n",
       "\n",
       "   na.rm: logical.  Should missing values (including ‘NaN’) be removed?\n",
       "\n",
       "_\bD_\be_\bt_\ba_\bi_\bl_\bs:\n",
       "\n",
       "     This is a generic function: methods can be defined for it directly\n",
       "     or via the ‘Summary’ group generic.  For this to work properly,\n",
       "     the arguments ‘...’ should be unnamed, and dispatch is on the\n",
       "     first argument.\n",
       "\n",
       "     If ‘na.rm’ is ‘FALSE’ an ‘NA’ or ‘NaN’ value in any of the\n",
       "     arguments will cause a value of ‘NA’ or ‘NaN’ to be returned,\n",
       "     otherwise ‘NA’ and ‘NaN’ values are ignored.\n",
       "\n",
       "     Logical true values are regarded as one, false values as zero.\n",
       "     For historical reasons, ‘NULL’ is accepted and treated as if it\n",
       "     were ‘integer(0)’.\n",
       "\n",
       "     Loss of accuracy can occur when summing values of different signs:\n",
       "     this can even occur for sufficiently long integer inputs if the\n",
       "     partial sums would cause integer overflow.  Where possible\n",
       "     extended-precision accumulators are used, typically well supported\n",
       "     with C99 and newer, but possibly platform-dependent.\n",
       "\n",
       "_\bV_\ba_\bl_\bu_\be:\n",
       "\n",
       "     The sum.  If all of the ‘...’ arguments are of type integer or\n",
       "     logical, then the sum is ‘integer’ when possible and is ‘double’\n",
       "     otherwise.  Integer overflow should no longer happen since R\n",
       "     version 3.5.0.  For other argument types it is a length-one\n",
       "     numeric (‘double’) or complex vector.\n",
       "\n",
       "     *NB:* the sum of an empty set is zero, by definition.\n",
       "\n",
       "_\bS_\b4 _\bm_\be_\bt_\bh_\bo_\bd_\bs:\n",
       "\n",
       "     This is part of the S4 ‘Summary’ group generic.  Methods for it\n",
       "     must use the signature ‘x, ..., na.rm’.\n",
       "\n",
       "     ‘plotmath’ for the use of ‘sum’ in plot annotation.\n",
       "\n",
       "_\bR_\be_\bf_\be_\br_\be_\bn_\bc_\be_\bs:\n",
       "\n",
       "     Becker, R. A., Chambers, J. M. and Wilks, A. R. (1988) _The New S\n",
       "     Language_.  Wadsworth & Brooks/Cole.\n",
       "\n",
       "_\bS_\be_\be _\bA_\bl_\bs_\bo:\n",
       "\n",
       "     ‘colSums’ for row and column sums.\n",
       "\n",
       "_\bE_\bx_\ba_\bm_\bp_\bl_\be_\bs:\n",
       "\n",
       "     ## Pass a vector to sum, and it will add the elements together.\n",
       "     sum(1:5)\n",
       "     \n",
       "     ## Pass several numbers to sum, and it also adds the elements.\n",
       "     sum(1, 2, 3, 4, 5)\n",
       "     \n",
       "     ## In fact, you can pass vectors into several arguments, and everything gets added.\n",
       "     sum(1:2, 3:5)\n",
       "     \n",
       "     ## If there are missing values, the sum is unknown, i.e., also missing, ....\n",
       "     sum(1:5, NA)\n",
       "     ## ... unless  we exclude missing values explicitly:\n",
       "     sum(1:5, NA, na.rm = TRUE)\n",
       "     "
      ]
     },
     "metadata": {},
     "output_type": "display_data"
    }
   ],
   "source": [
    "?sum"
   ]
  },
  {
   "cell_type": "code",
   "execution_count": null,
   "metadata": {},
   "outputs": [],
   "source": []
  }
 ],
 "metadata": {
  "kernelspec": {
   "display_name": "R",
   "language": "R",
   "name": "ir"
  },
  "language_info": {
   "codemirror_mode": "r",
   "file_extension": ".r",
   "mimetype": "text/x-r-source",
   "name": "R",
   "pygments_lexer": "r",
   "version": "4.0.0"
  }
 },
 "nbformat": 4,
 "nbformat_minor": 4
}
