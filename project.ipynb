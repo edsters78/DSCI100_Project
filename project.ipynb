{
 "cells": [
  {
   "cell_type": "markdown",
   "metadata": {},
   "source": [
    "Reminders:\n",
    "\n",
    "Since the grades are classified using numbers 1-20, we should check for inbalances (i.e. if there's only one 17)\n",
    "\n",
    "The final report consists of a model, as well as intpreting what the accuracy could mean"
   ]
  },
  {
   "cell_type": "markdown",
   "metadata": {},
   "source": [
    "https://raw.githubusercontent.com/edsters78/Project_Proposal/main/student-mat.csv <br> \n",
    "This is the link to the data set we are using."
   ]
  },
  {
   "cell_type": "code",
   "execution_count": 2,
   "metadata": {},
   "outputs": [
    {
     "name": "stderr",
     "output_type": "stream",
     "text": [
      "── \u001b[1mAttaching packages\u001b[22m ─────────────────────────────────────── tidyverse 1.3.0 ──\n",
      "\n",
      "\u001b[32m✔\u001b[39m \u001b[34mggplot2\u001b[39m 3.3.2     \u001b[32m✔\u001b[39m \u001b[34mpurrr  \u001b[39m 0.3.4\n",
      "\u001b[32m✔\u001b[39m \u001b[34mtibble \u001b[39m 3.0.3     \u001b[32m✔\u001b[39m \u001b[34mdplyr  \u001b[39m 1.0.2\n",
      "\u001b[32m✔\u001b[39m \u001b[34mtidyr  \u001b[39m 1.1.2     \u001b[32m✔\u001b[39m \u001b[34mstringr\u001b[39m 1.4.0\n",
      "\u001b[32m✔\u001b[39m \u001b[34mreadr  \u001b[39m 1.3.1     \u001b[32m✔\u001b[39m \u001b[34mforcats\u001b[39m 0.5.0\n",
      "\n",
      "Warning message:\n",
      "“package ‘ggplot2’ was built under R version 4.0.1”\n",
      "Warning message:\n",
      "“package ‘tibble’ was built under R version 4.0.2”\n",
      "Warning message:\n",
      "“package ‘tidyr’ was built under R version 4.0.2”\n",
      "Warning message:\n",
      "“package ‘dplyr’ was built under R version 4.0.2”\n",
      "── \u001b[1mConflicts\u001b[22m ────────────────────────────────────────── tidyverse_conflicts() ──\n",
      "\u001b[31m✖\u001b[39m \u001b[34mdplyr\u001b[39m::\u001b[32mfilter()\u001b[39m masks \u001b[34mstats\u001b[39m::filter()\n",
      "\u001b[31m✖\u001b[39m \u001b[34mdplyr\u001b[39m::\u001b[32mlag()\u001b[39m    masks \u001b[34mstats\u001b[39m::lag()\n",
      "\n",
      "Warning message:\n",
      "“package ‘tidymodels’ was built under R version 4.0.2”\n",
      "── \u001b[1mAttaching packages\u001b[22m ────────────────────────────────────── tidymodels 0.1.1 ──\n",
      "\n",
      "\u001b[32m✔\u001b[39m \u001b[34mbroom    \u001b[39m 0.7.0      \u001b[32m✔\u001b[39m \u001b[34mrecipes  \u001b[39m 0.1.13\n",
      "\u001b[32m✔\u001b[39m \u001b[34mdials    \u001b[39m 0.0.9      \u001b[32m✔\u001b[39m \u001b[34mrsample  \u001b[39m 0.0.7 \n",
      "\u001b[32m✔\u001b[39m \u001b[34minfer    \u001b[39m 0.5.4      \u001b[32m✔\u001b[39m \u001b[34mtune     \u001b[39m 0.1.1 \n",
      "\u001b[32m✔\u001b[39m \u001b[34mmodeldata\u001b[39m 0.0.2      \u001b[32m✔\u001b[39m \u001b[34mworkflows\u001b[39m 0.2.0 \n",
      "\u001b[32m✔\u001b[39m \u001b[34mparsnip  \u001b[39m 0.1.3      \u001b[32m✔\u001b[39m \u001b[34myardstick\u001b[39m 0.0.7 \n",
      "\n",
      "Warning message:\n",
      "“package ‘broom’ was built under R version 4.0.2”\n",
      "Warning message:\n",
      "“package ‘dials’ was built under R version 4.0.2”\n",
      "Warning message:\n",
      "“package ‘infer’ was built under R version 4.0.3”\n",
      "Warning message:\n",
      "“package ‘modeldata’ was built under R version 4.0.1”\n",
      "Warning message:\n",
      "“package ‘parsnip’ was built under R version 4.0.2”\n",
      "Warning message:\n",
      "“package ‘recipes’ was built under R version 4.0.1”\n",
      "Warning message:\n",
      "“package ‘tune’ was built under R version 4.0.2”\n",
      "Warning message:\n",
      "“package ‘workflows’ was built under R version 4.0.2”\n",
      "Warning message:\n",
      "“package ‘yardstick’ was built under R version 4.0.2”\n",
      "── \u001b[1mConflicts\u001b[22m ───────────────────────────────────────── tidymodels_conflicts() ──\n",
      "\u001b[31m✖\u001b[39m \u001b[34mscales\u001b[39m::\u001b[32mdiscard()\u001b[39m masks \u001b[34mpurrr\u001b[39m::discard()\n",
      "\u001b[31m✖\u001b[39m \u001b[34mdplyr\u001b[39m::\u001b[32mfilter()\u001b[39m   masks \u001b[34mstats\u001b[39m::filter()\n",
      "\u001b[31m✖\u001b[39m \u001b[34mrecipes\u001b[39m::\u001b[32mfixed()\u001b[39m  masks \u001b[34mstringr\u001b[39m::fixed()\n",
      "\u001b[31m✖\u001b[39m \u001b[34mdplyr\u001b[39m::\u001b[32mlag()\u001b[39m      masks \u001b[34mstats\u001b[39m::lag()\n",
      "\u001b[31m✖\u001b[39m \u001b[34myardstick\u001b[39m::\u001b[32mspec()\u001b[39m masks \u001b[34mreadr\u001b[39m::spec()\n",
      "\u001b[31m✖\u001b[39m \u001b[34mrecipes\u001b[39m::\u001b[32mstep()\u001b[39m   masks \u001b[34mstats\u001b[39m::step()\n",
      "\n",
      "Warning message:\n",
      "“package ‘cowplot’ was built under R version 4.0.3”\n"
     ]
    }
   ],
   "source": [
    "library(tidyverse)\n",
    "library(repr)\n",
    "library(tidymodels)\n",
    "library(cowplot)\n",
    "library(scales)\n",
    "library(dplyr)"
   ]
  },
  {
   "cell_type": "markdown",
   "metadata": {},
   "source": [
    "# Predicting a Student's Success"
   ]
  },
  {
   "cell_type": "markdown",
   "metadata": {},
   "source": [
    "## Introduction"
   ]
  },
  {
   "cell_type": "markdown",
   "metadata": {},
   "source": [
    "- choose predictors and justify it, potentially using sources, visualizations\n",
    "- provide some relevant background information on the topic so that someone unfamiliar with it will be prepared to understand the rest of your report\n",
    "- clearly state the question you tried to answer with your project\n",
    "- identify and describe the dataset that was used to answer the question\n"
   ]
  },
  {
   "cell_type": "markdown",
   "metadata": {},
   "source": [
    "We, group 18, have decided to look into a dataset measuring factors which contribute to a students academic achievement, where academic achievement is measured by a student's grades. It is of utmost importance for educators to understand which factors (such as age, family income, demographics et cetera) contribute to a students academic success in order to adjust pedagogical practices to support and optimize a students learning. The question that we intend to answer is as follows: **can we accurately predict a student's academic achievement (grade), based on a variety of factors**. We will answer this by creating a machine learning knn classification model that will predict student grades, and based on these predictions, we will relate it back to the true values to assess the models accuracy. \n",
    "\n",
    "The dataset that we, group 18, have chosen is called Student Grade Prediction, which is a data set consisting of 33 columns and 395 rows, containing data of students from two different Portuguese secondary education institutes. The columns contain factors that the researchers deemed to be relevant in determining a student's academic achievements. Examples of these factors (variables) include the students sex, there relative health and the amount of time spent studying. \n"
   ]
  },
  {
   "cell_type": "markdown",
   "metadata": {},
   "source": [
    "## Methods and Results"
   ]
  },
  {
   "cell_type": "code",
   "execution_count": 3,
   "metadata": {},
   "outputs": [
    {
     "name": "stderr",
     "output_type": "stream",
     "text": [
      "Parsed with column specification:\n",
      "cols(\n",
      "  .default = col_character(),\n",
      "  age = \u001b[32mcol_double()\u001b[39m,\n",
      "  Medu = \u001b[32mcol_double()\u001b[39m,\n",
      "  Fedu = \u001b[32mcol_double()\u001b[39m,\n",
      "  traveltime = \u001b[32mcol_double()\u001b[39m,\n",
      "  studytime = \u001b[32mcol_double()\u001b[39m,\n",
      "  failures = \u001b[32mcol_double()\u001b[39m,\n",
      "  famrel = \u001b[32mcol_double()\u001b[39m,\n",
      "  freetime = \u001b[32mcol_double()\u001b[39m,\n",
      "  goout = \u001b[32mcol_double()\u001b[39m,\n",
      "  Dalc = \u001b[32mcol_double()\u001b[39m,\n",
      "  Walc = \u001b[32mcol_double()\u001b[39m,\n",
      "  health = \u001b[32mcol_double()\u001b[39m,\n",
      "  absences = \u001b[32mcol_double()\u001b[39m,\n",
      "  G1 = \u001b[32mcol_double()\u001b[39m,\n",
      "  G2 = \u001b[32mcol_double()\u001b[39m,\n",
      "  G3 = \u001b[32mcol_double()\u001b[39m\n",
      ")\n",
      "\n",
      "See spec(...) for full column specifications.\n",
      "\n"
     ]
    }
   ],
   "source": [
    "#reading data from web\n",
    "options(repr.matrix.max.rows = 10)\n",
    "url<-\"https://raw.githubusercontent.com/edsters78/Project_Proposal/main/student-mat.csv\"\n",
    "student_data<-read_csv(url)\n",
    "#student_data"
   ]
  },
  {
   "cell_type": "code",
   "execution_count": 4,
   "metadata": {},
   "outputs": [],
   "source": [
    "#tidying the data\n",
    "#selecting only the variables that will be most relevant\n",
    "student_data_clean <- student_data %>%\n",
    "    select(sex, address, Medu, Fedu, traveltime, studytime, paid, activities, internet, famrel, Dalc, Walc, health, absences, G3) \n",
    "#student_data_clean\n",
    "\n",
    "# student_data_clean_nonly <- student_data_clean %>%\n",
    "#     mutate(sex = ifelse(sex == \"F\", 1, 0), #1 is female, 0 is male\n",
    "#           address = ifelse(address == \"U\", 1, 0), #1 is Urban, 0 is Rural\n",
    "#           paid = ifelse(paid == \"yes\", 1, 0), #1 is yes, 0 is no\n",
    "#           activities = ifelse(activities == \"yes\", 1, 0), #1 is yes, 0 is no\n",
    "#           internet = ifelse(internet == \"yes\", 1, 0)) #1 is yes, 0 is no\n",
    "# student_data_clean_nonly"
   ]
  },
  {
   "cell_type": "code",
   "execution_count": 4,
   "metadata": {},
   "outputs": [],
   "source": [
    "# #splitting into training and testing data\n",
    "# student_split <- initial_split(student_data_clean_nonly, prop = 0.75, strat = G3)\n",
    "# student_train <- training(student_split)\n",
    "# student_test <- testing(student_split)\n",
    "\n",
    "# student_train\n",
    "# #student_test"
   ]
  },
  {
   "cell_type": "code",
   "execution_count": 5,
   "metadata": {},
   "outputs": [
    {
     "name": "stderr",
     "output_type": "stream",
     "text": [
      "`summarise()` ungrouping output (override with `.groups` argument)\n",
      "\n"
     ]
    },
    {
     "data": {
      "text/html": [
       "<table>\n",
       "<caption>A tibble: 18 × 2</caption>\n",
       "<thead>\n",
       "\t<tr><th scope=col>G3</th><th scope=col>n</th></tr>\n",
       "\t<tr><th scope=col>&lt;dbl&gt;</th><th scope=col>&lt;int&gt;</th></tr>\n",
       "</thead>\n",
       "<tbody>\n",
       "\t<tr><td>0</td><td>38</td></tr>\n",
       "\t<tr><td>4</td><td> 1</td></tr>\n",
       "\t<tr><td>5</td><td> 7</td></tr>\n",
       "\t<tr><td>6</td><td>15</td></tr>\n",
       "\t<tr><td>7</td><td> 9</td></tr>\n",
       "\t<tr><td>⋮</td><td>⋮</td></tr>\n",
       "\t<tr><td>16</td><td>16</td></tr>\n",
       "\t<tr><td>17</td><td> 6</td></tr>\n",
       "\t<tr><td>18</td><td>12</td></tr>\n",
       "\t<tr><td>19</td><td> 5</td></tr>\n",
       "\t<tr><td>20</td><td> 1</td></tr>\n",
       "</tbody>\n",
       "</table>\n"
      ],
      "text/latex": [
       "A tibble: 18 × 2\n",
       "\\begin{tabular}{ll}\n",
       " G3 & n\\\\\n",
       " <dbl> & <int>\\\\\n",
       "\\hline\n",
       "\t 0 & 38\\\\\n",
       "\t 4 &  1\\\\\n",
       "\t 5 &  7\\\\\n",
       "\t 6 & 15\\\\\n",
       "\t 7 &  9\\\\\n",
       "\t ⋮ & ⋮\\\\\n",
       "\t 16 & 16\\\\\n",
       "\t 17 &  6\\\\\n",
       "\t 18 & 12\\\\\n",
       "\t 19 &  5\\\\\n",
       "\t 20 &  1\\\\\n",
       "\\end{tabular}\n"
      ],
      "text/markdown": [
       "\n",
       "A tibble: 18 × 2\n",
       "\n",
       "| G3 &lt;dbl&gt; | n &lt;int&gt; |\n",
       "|---|---|\n",
       "| 0 | 38 |\n",
       "| 4 |  1 |\n",
       "| 5 |  7 |\n",
       "| 6 | 15 |\n",
       "| 7 |  9 |\n",
       "| ⋮ | ⋮ |\n",
       "| 16 | 16 |\n",
       "| 17 |  6 |\n",
       "| 18 | 12 |\n",
       "| 19 |  5 |\n",
       "| 20 |  1 |\n",
       "\n"
      ],
      "text/plain": [
       "   G3 n \n",
       "1  0  38\n",
       "2  4   1\n",
       "3  5   7\n",
       "4  6  15\n",
       "5  7   9\n",
       "⋮  ⋮  ⋮ \n",
       "14 16 16\n",
       "15 17  6\n",
       "16 18 12\n",
       "17 19  5\n",
       "18 20  1"
      ]
     },
     "metadata": {},
     "output_type": "display_data"
    },
    {
     "data": {
      "text/html": [
       "<table>\n",
       "<caption>A tibble: 18 × 2</caption>\n",
       "<thead>\n",
       "\t<tr><th scope=col>G3</th><th scope=col>n</th></tr>\n",
       "\t<tr><th scope=col>&lt;dbl&gt;</th><th scope=col>&lt;int&gt;</th></tr>\n",
       "</thead>\n",
       "<tbody>\n",
       "\t<tr><td> 4</td><td>1</td></tr>\n",
       "\t<tr><td>20</td><td>1</td></tr>\n",
       "\t<tr><td>19</td><td>5</td></tr>\n",
       "\t<tr><td>17</td><td>6</td></tr>\n",
       "\t<tr><td> 5</td><td>7</td></tr>\n",
       "\t<tr><td>⋮</td><td>⋮</td></tr>\n",
       "\t<tr><td> 8</td><td>32</td></tr>\n",
       "\t<tr><td>15</td><td>33</td></tr>\n",
       "\t<tr><td> 0</td><td>38</td></tr>\n",
       "\t<tr><td>11</td><td>47</td></tr>\n",
       "\t<tr><td>10</td><td>56</td></tr>\n",
       "</tbody>\n",
       "</table>\n"
      ],
      "text/latex": [
       "A tibble: 18 × 2\n",
       "\\begin{tabular}{ll}\n",
       " G3 & n\\\\\n",
       " <dbl> & <int>\\\\\n",
       "\\hline\n",
       "\t  4 & 1\\\\\n",
       "\t 20 & 1\\\\\n",
       "\t 19 & 5\\\\\n",
       "\t 17 & 6\\\\\n",
       "\t  5 & 7\\\\\n",
       "\t ⋮ & ⋮\\\\\n",
       "\t  8 & 32\\\\\n",
       "\t 15 & 33\\\\\n",
       "\t  0 & 38\\\\\n",
       "\t 11 & 47\\\\\n",
       "\t 10 & 56\\\\\n",
       "\\end{tabular}\n"
      ],
      "text/markdown": [
       "\n",
       "A tibble: 18 × 2\n",
       "\n",
       "| G3 &lt;dbl&gt; | n &lt;int&gt; |\n",
       "|---|---|\n",
       "|  4 | 1 |\n",
       "| 20 | 1 |\n",
       "| 19 | 5 |\n",
       "| 17 | 6 |\n",
       "|  5 | 7 |\n",
       "| ⋮ | ⋮ |\n",
       "|  8 | 32 |\n",
       "| 15 | 33 |\n",
       "|  0 | 38 |\n",
       "| 11 | 47 |\n",
       "| 10 | 56 |\n",
       "\n"
      ],
      "text/plain": [
       "   G3 n \n",
       "1   4 1 \n",
       "2  20 1 \n",
       "3  19 5 \n",
       "4  17 6 \n",
       "5   5 7 \n",
       "⋮  ⋮  ⋮ \n",
       "14  8 32\n",
       "15 15 33\n",
       "16  0 38\n",
       "17 11 47\n",
       "18 10 56"
      ]
     },
     "metadata": {},
     "output_type": "display_data"
    },
    {
     "data": {
      "image/png": "[encoded data removed]",
      "text/plain": [
       "plot without title"
      ]
     },
     "metadata": {
      "image/png": {
       "height": 420,
       "width": 420
      }
     },
     "output_type": "display_data"
    }
   ],
   "source": [
    "student_G3_count <- student_data %>%\n",
    "    group_by(G3) %>%\n",
    "    summarise(n = n())\n",
    "student_G3_count\n",
    "\n",
    "\n",
    "student_G3_count_plot <- ggplot(student_G3_count, aes(x = G3, y = n)) +\n",
    "    geom_bar(stat = \"identity\")\n",
    "student_G3_count_plot\n",
    "        \n",
    "student_G3_count %>% arrange(n)"
   ]
  },
  {
   "cell_type": "code",
   "execution_count": 6,
   "metadata": {},
   "outputs": [],
   "source": [
    "#turning grade into a factor\n",
    "\n",
    "# student_data_clean_temp <- student_data_clean %>%\n",
    "#     mutate(G3 = as.factor(G3)) %>%\n",
    "#     select(traveltime, studytime, absences, G3)\n",
    "# student_data_clean_temp\n",
    "# student_data_clean_temp_split <- initial_split(student_data_clean_temp)\n",
    "# student_train_temp <- training(student_data_clean_temp_split)\n",
    "# student_test_temp <- testing(student_data_clean_temp_split)\n",
    "\n",
    "# student_train_temp\n",
    "# student_test_temp\n",
    "\n",
    "# student_recipe <- recipe(G3 ~., data = student_train_temp) %>%\n",
    "#     step_scale(all_predictors()) %>%\n",
    "#     step_center(all_predictors())\n",
    "\n",
    "# student_vfold <- vfold_cv(student_train_temp, v = 5, strata = G3)\n",
    "\n",
    "# knn_tune <- nearest_neighbor(weight_func = \"rectangular\", neighbors = tune()) %>%\n",
    "#     set_engine(\"kknn\") %>%\n",
    "#     set_mode(\"classification\")\n",
    "\n",
    "# k_vals <- tibble(neighbors = seq(1:50))"
   ]
  },
  {
   "cell_type": "code",
   "execution_count": 7,
   "metadata": {},
   "outputs": [],
   "source": [
    "# knn_results <- workflow() %>%\n",
    "#     add_recipe(student_recipe) %>%\n",
    "#     add_model(knn_tune) %>%\n",
    "#     tune_grid(resamples = student_vfold, grid = k_vals) %>%\n",
    "#     collect_metrics\n",
    "# knn_results"
   ]
  },
  {
   "cell_type": "code",
   "execution_count": 8,
   "metadata": {},
   "outputs": [],
   "source": [
    "# accuracies <- knn_results %>%\n",
    "#     filter(.metric == \"accuracy\") %>%\n",
    "#     arrange(desc(mean))\n",
    "# accuracies\n",
    "\n",
    "# k_best <- accuracies %>%\n",
    "#     slice(1) %>%\n",
    "#     pull(neighbors)\n",
    "# k_best"
   ]
  },
  {
   "cell_type": "code",
   "execution_count": 9,
   "metadata": {},
   "outputs": [],
   "source": [
    "# student_spec <- nearest_neighbor(weight_fun = \"rectangular\", neighbors = k_best) %>%\n",
    "#     set_engine(\"kknn\") %>%\n",
    "#     set_mode(\"classification\")\n",
    "\n",
    "# student_model <- workflow() %>%\n",
    "#     add_recipe(student_recipe) %>%\n",
    "#     add_model(student_spec) %>%\n",
    "#     fit(student_train_temp)\n",
    "# # student_model\n",
    "\n",
    "# student_predictions <- predict(student_model, student_test_temp)\n",
    "# student_predictions\n",
    "\n",
    "# test <- student_predictions %>%\n",
    "#     group_by(.pred_class) %>%\n",
    "#     summarise(n = n())\n",
    "# test\n",
    "\n",
    "# bind_cols(student_predictions, student_test_temp)\n",
    "\n",
    "# results <- student_predictions %>%\n",
    "#     bind_cols(student_test_temp) %>%\n",
    "#     metrics(truth = G3, estimate = .pred_class)\n",
    "# results"
   ]
  },
  {
   "cell_type": "code",
   "execution_count": 57,
   "metadata": {},
   "outputs": [
    {
     "data": {
      "text/html": [
       "<table>\n",
       "<caption>A tibble: 395 × 4</caption>\n",
       "<thead>\n",
       "\t<tr><th scope=col>traveltime</th><th scope=col>studytime</th><th scope=col>absences</th><th scope=col>G3</th></tr>\n",
       "\t<tr><th scope=col>&lt;dbl&gt;</th><th scope=col>&lt;dbl&gt;</th><th scope=col>&lt;dbl&gt;</th><th scope=col>&lt;fct&gt;</th></tr>\n",
       "</thead>\n",
       "<tbody>\n",
       "\t<tr><td>2</td><td>2</td><td> 6</td><td>D</td></tr>\n",
       "\t<tr><td>1</td><td>2</td><td> 4</td><td>D</td></tr>\n",
       "\t<tr><td>1</td><td>2</td><td>10</td><td>C</td></tr>\n",
       "\t<tr><td>1</td><td>3</td><td> 2</td><td>B</td></tr>\n",
       "\t<tr><td>1</td><td>2</td><td> 4</td><td>C</td></tr>\n",
       "\t<tr><td>⋮</td><td>⋮</td><td>⋮</td><td>⋮</td></tr>\n",
       "\t<tr><td>1</td><td>2</td><td>11</td><td>C</td></tr>\n",
       "\t<tr><td>2</td><td>1</td><td> 3</td><td>A</td></tr>\n",
       "\t<tr><td>1</td><td>1</td><td> 3</td><td>D</td></tr>\n",
       "\t<tr><td>3</td><td>1</td><td> 0</td><td>C</td></tr>\n",
       "\t<tr><td>1</td><td>1</td><td> 5</td><td>C</td></tr>\n",
       "</tbody>\n",
       "</table>\n"
      ],
      "text/latex": [
       "A tibble: 395 × 4\n",
       "\\begin{tabular}{llll}\n",
       " traveltime & studytime & absences & G3\\\\\n",
       " <dbl> & <dbl> & <dbl> & <fct>\\\\\n",
       "\\hline\n",
       "\t 2 & 2 &  6 & D\\\\\n",
       "\t 1 & 2 &  4 & D\\\\\n",
       "\t 1 & 2 & 10 & C\\\\\n",
       "\t 1 & 3 &  2 & B\\\\\n",
       "\t 1 & 2 &  4 & C\\\\\n",
       "\t ⋮ & ⋮ & ⋮ & ⋮\\\\\n",
       "\t 1 & 2 & 11 & C\\\\\n",
       "\t 2 & 1 &  3 & A\\\\\n",
       "\t 1 & 1 &  3 & D\\\\\n",
       "\t 3 & 1 &  0 & C\\\\\n",
       "\t 1 & 1 &  5 & C\\\\\n",
       "\\end{tabular}\n"
      ],
      "text/markdown": [
       "\n",
       "A tibble: 395 × 4\n",
       "\n",
       "| traveltime &lt;dbl&gt; | studytime &lt;dbl&gt; | absences &lt;dbl&gt; | G3 &lt;fct&gt; |\n",
       "|---|---|---|---|\n",
       "| 2 | 2 |  6 | D |\n",
       "| 1 | 2 |  4 | D |\n",
       "| 1 | 2 | 10 | C |\n",
       "| 1 | 3 |  2 | B |\n",
       "| 1 | 2 |  4 | C |\n",
       "| ⋮ | ⋮ | ⋮ | ⋮ |\n",
       "| 1 | 2 | 11 | C |\n",
       "| 2 | 1 |  3 | A |\n",
       "| 1 | 1 |  3 | D |\n",
       "| 3 | 1 |  0 | C |\n",
       "| 1 | 1 |  5 | C |\n",
       "\n"
      ],
      "text/plain": [
       "    traveltime studytime absences G3\n",
       "1   2          2          6       D \n",
       "2   1          2          4       D \n",
       "3   1          2         10       C \n",
       "4   1          3          2       B \n",
       "5   1          2          4       C \n",
       "⋮   ⋮          ⋮         ⋮        ⋮ \n",
       "391 1          2         11       C \n",
       "392 2          1          3       A \n",
       "393 1          1          3       D \n",
       "394 3          1          0       C \n",
       "395 1          1          5       C "
      ]
     },
     "metadata": {},
     "output_type": "display_data"
    },
    {
     "name": "stderr",
     "output_type": "stream",
     "text": [
      "`summarise()` ungrouping output (override with `.groups` argument)\n",
      "\n"
     ]
    },
    {
     "data": {
      "text/html": [
       "<table>\n",
       "<caption>A tibble: 5 × 2</caption>\n",
       "<thead>\n",
       "\t<tr><th scope=col>G3</th><th scope=col>n</th></tr>\n",
       "\t<tr><th scope=col>&lt;fct&gt;</th><th scope=col>&lt;int&gt;</th></tr>\n",
       "</thead>\n",
       "<tbody>\n",
       "\t<tr><td>A</td><td> 40</td></tr>\n",
       "\t<tr><td>B</td><td>122</td></tr>\n",
       "\t<tr><td>C</td><td>163</td></tr>\n",
       "\t<tr><td>D</td><td> 32</td></tr>\n",
       "\t<tr><td>F</td><td> 38</td></tr>\n",
       "</tbody>\n",
       "</table>\n"
      ],
      "text/latex": [
       "A tibble: 5 × 2\n",
       "\\begin{tabular}{ll}\n",
       " G3 & n\\\\\n",
       " <fct> & <int>\\\\\n",
       "\\hline\n",
       "\t A &  40\\\\\n",
       "\t B & 122\\\\\n",
       "\t C & 163\\\\\n",
       "\t D &  32\\\\\n",
       "\t F &  38\\\\\n",
       "\\end{tabular}\n"
      ],
      "text/markdown": [
       "\n",
       "A tibble: 5 × 2\n",
       "\n",
       "| G3 &lt;fct&gt; | n &lt;int&gt; |\n",
       "|---|---|\n",
       "| A |  40 |\n",
       "| B | 122 |\n",
       "| C | 163 |\n",
       "| D |  32 |\n",
       "| F |  38 |\n",
       "\n"
      ],
      "text/plain": [
       "  G3 n  \n",
       "1 A   40\n",
       "2 B  122\n",
       "3 C  163\n",
       "4 D   32\n",
       "5 F   38"
      ]
     },
     "metadata": {},
     "output_type": "display_data"
    }
   ],
   "source": [
    "#creating dataset and categorizing grade\n",
    "student_data_1 <- student_data_clean %>%\n",
    "    select(traveltime, studytime,absences, G3)\n",
    "student_data_F <- mutate(student_data_1, G3 = case_when(G3 %in% (0:3) ~ \"F\",\n",
    "                                                       G3 %in% (4:7) ~ \"D\",\n",
    "                                                       G3 %in% (8:11) ~ \"C\",\n",
    "                                                       G3 %in% (12:15) ~ \"B\",\n",
    "                                                       G3 %in% (16:20) ~ \"A\"),\n",
    "                        G3 = as.factor(G3))\n",
    "# student_data_F <- mutate(student_data_1, G3 = case_when(G3 %in% (0:9) ~ \"Fail\",\n",
    "#                                                        G3 %in% (10:20) ~ \"Pass\"),\n",
    "#                         G3 = as.factor(G3))\n",
    "student_data_F\n",
    "\n",
    "student_data_F_count <- student_data_F %>% group_by(G3) %>% summarise(n = n())\n",
    "student_data_F_count"
   ]
  },
  {
   "cell_type": "code",
   "execution_count": 68,
   "metadata": {},
   "outputs": [],
   "source": [
    "#splitting into training and testing set\n",
    "sdf_split <- initial_split(student_data_F, prop = 0.75, strata = G3)\n",
    "sdf_train <- training(sdf_split)\n",
    "sdf_test <- testing(sdf_split)\n",
    "\n",
    "#creating recipe, vfold, tune, and k_vals\n",
    "# sdf_train_up <- recipe(G3 ~., data = sdf_train) %>%\n",
    "#     step_upsample(G3, over_ratio = 1, skip = FALSE) %>%\n",
    "#     prep() %>%\n",
    "#     bake(sdf_train)\n",
    "# sdf_train_up\n",
    "# summarise(group_by(sdf_train_up, G3), n = n())\n",
    "\n",
    "sdf_recipe <- recipe(G3 ~., data = sdf_train) %>%\n",
    "    step_scale(all_predictors()) %>%\n",
    "    step_center(all_predictors())\n",
    "\n",
    "sdf_vfold<- vfold_cv(sdf_train, v = 5, strata = G3)\n",
    "\n",
    "sdf_tune <- nearest_neighbor(weight_fun = \"rectangular\", neighbors = tune()) %>%\n",
    "    set_engine(\"kknn\") %>%\n",
    "    set_mode(\"classification\")\n",
    "\n",
    "k_vals <- tibble(neighbors = seq(from = 1, to = 60, by = 5))\n"
   ]
  },
  {
   "cell_type": "code",
   "execution_count": 69,
   "metadata": {},
   "outputs": [
    {
     "data": {
      "text/html": [
       "<table>\n",
       "<caption>A tibble: 24 × 7</caption>\n",
       "<thead>\n",
       "\t<tr><th scope=col>neighbors</th><th scope=col>.metric</th><th scope=col>.estimator</th><th scope=col>mean</th><th scope=col>n</th><th scope=col>std_err</th><th scope=col>.config</th></tr>\n",
       "\t<tr><th scope=col>&lt;dbl&gt;</th><th scope=col>&lt;chr&gt;</th><th scope=col>&lt;chr&gt;</th><th scope=col>&lt;dbl&gt;</th><th scope=col>&lt;int&gt;</th><th scope=col>&lt;dbl&gt;</th><th scope=col>&lt;chr&gt;</th></tr>\n",
       "</thead>\n",
       "<tbody>\n",
       "\t<tr><td> 1</td><td>accuracy</td><td>multiclass</td><td>0.3495297</td><td>5</td><td>0.03974903</td><td>Model01</td></tr>\n",
       "\t<tr><td> 1</td><td>roc_auc </td><td>hand_till </td><td>0.5320626</td><td>5</td><td>0.02297472</td><td>Model01</td></tr>\n",
       "\t<tr><td> 6</td><td>accuracy</td><td>multiclass</td><td>0.3395767</td><td>5</td><td>0.02462974</td><td>Model02</td></tr>\n",
       "\t<tr><td> 6</td><td>roc_auc </td><td>hand_till </td><td>0.5368528</td><td>5</td><td>0.03586271</td><td>Model02</td></tr>\n",
       "\t<tr><td>11</td><td>accuracy</td><td>multiclass</td><td>0.3534810</td><td>5</td><td>0.02472770</td><td>Model03</td></tr>\n",
       "\t<tr><td>⋮</td><td>⋮</td><td>⋮</td><td>⋮</td><td>⋮</td><td>⋮</td><td>⋮</td></tr>\n",
       "\t<tr><td>46</td><td>roc_auc </td><td>hand_till </td><td>0.5961338</td><td>5</td><td>0.04122875</td><td>Model10</td></tr>\n",
       "\t<tr><td>51</td><td>accuracy</td><td>multiclass</td><td>0.4239385</td><td>5</td><td>0.01141930</td><td>Model11</td></tr>\n",
       "\t<tr><td>51</td><td>roc_auc </td><td>hand_till </td><td>0.6057574</td><td>5</td><td>0.03581486</td><td>Model11</td></tr>\n",
       "\t<tr><td>56</td><td>accuracy</td><td>multiclass</td><td>0.4240496</td><td>5</td><td>0.01136070</td><td>Model12</td></tr>\n",
       "\t<tr><td>56</td><td>roc_auc </td><td>hand_till </td><td>0.6020178</td><td>5</td><td>0.04095769</td><td>Model12</td></tr>\n",
       "</tbody>\n",
       "</table>\n"
      ],
      "text/latex": [
       "A tibble: 24 × 7\n",
       "\\begin{tabular}{lllllll}\n",
       " neighbors & .metric & .estimator & mean & n & std\\_err & .config\\\\\n",
       " <dbl> & <chr> & <chr> & <dbl> & <int> & <dbl> & <chr>\\\\\n",
       "\\hline\n",
       "\t  1 & accuracy & multiclass & 0.3495297 & 5 & 0.03974903 & Model01\\\\\n",
       "\t  1 & roc\\_auc  & hand\\_till  & 0.5320626 & 5 & 0.02297472 & Model01\\\\\n",
       "\t  6 & accuracy & multiclass & 0.3395767 & 5 & 0.02462974 & Model02\\\\\n",
       "\t  6 & roc\\_auc  & hand\\_till  & 0.5368528 & 5 & 0.03586271 & Model02\\\\\n",
       "\t 11 & accuracy & multiclass & 0.3534810 & 5 & 0.02472770 & Model03\\\\\n",
       "\t ⋮ & ⋮ & ⋮ & ⋮ & ⋮ & ⋮ & ⋮\\\\\n",
       "\t 46 & roc\\_auc  & hand\\_till  & 0.5961338 & 5 & 0.04122875 & Model10\\\\\n",
       "\t 51 & accuracy & multiclass & 0.4239385 & 5 & 0.01141930 & Model11\\\\\n",
       "\t 51 & roc\\_auc  & hand\\_till  & 0.6057574 & 5 & 0.03581486 & Model11\\\\\n",
       "\t 56 & accuracy & multiclass & 0.4240496 & 5 & 0.01136070 & Model12\\\\\n",
       "\t 56 & roc\\_auc  & hand\\_till  & 0.6020178 & 5 & 0.04095769 & Model12\\\\\n",
       "\\end{tabular}\n"
      ],
      "text/markdown": [
       "\n",
       "A tibble: 24 × 7\n",
       "\n",
       "| neighbors &lt;dbl&gt; | .metric &lt;chr&gt; | .estimator &lt;chr&gt; | mean &lt;dbl&gt; | n &lt;int&gt; | std_err &lt;dbl&gt; | .config &lt;chr&gt; |\n",
       "|---|---|---|---|---|---|---|\n",
       "|  1 | accuracy | multiclass | 0.3495297 | 5 | 0.03974903 | Model01 |\n",
       "|  1 | roc_auc  | hand_till  | 0.5320626 | 5 | 0.02297472 | Model01 |\n",
       "|  6 | accuracy | multiclass | 0.3395767 | 5 | 0.02462974 | Model02 |\n",
       "|  6 | roc_auc  | hand_till  | 0.5368528 | 5 | 0.03586271 | Model02 |\n",
       "| 11 | accuracy | multiclass | 0.3534810 | 5 | 0.02472770 | Model03 |\n",
       "| ⋮ | ⋮ | ⋮ | ⋮ | ⋮ | ⋮ | ⋮ |\n",
       "| 46 | roc_auc  | hand_till  | 0.5961338 | 5 | 0.04122875 | Model10 |\n",
       "| 51 | accuracy | multiclass | 0.4239385 | 5 | 0.01141930 | Model11 |\n",
       "| 51 | roc_auc  | hand_till  | 0.6057574 | 5 | 0.03581486 | Model11 |\n",
       "| 56 | accuracy | multiclass | 0.4240496 | 5 | 0.01136070 | Model12 |\n",
       "| 56 | roc_auc  | hand_till  | 0.6020178 | 5 | 0.04095769 | Model12 |\n",
       "\n"
      ],
      "text/plain": [
       "   neighbors .metric  .estimator mean      n std_err    .config\n",
       "1   1        accuracy multiclass 0.3495297 5 0.03974903 Model01\n",
       "2   1        roc_auc  hand_till  0.5320626 5 0.02297472 Model01\n",
       "3   6        accuracy multiclass 0.3395767 5 0.02462974 Model02\n",
       "4   6        roc_auc  hand_till  0.5368528 5 0.03586271 Model02\n",
       "5  11        accuracy multiclass 0.3534810 5 0.02472770 Model03\n",
       "⋮  ⋮         ⋮        ⋮          ⋮         ⋮ ⋮          ⋮      \n",
       "20 46        roc_auc  hand_till  0.5961338 5 0.04122875 Model10\n",
       "21 51        accuracy multiclass 0.4239385 5 0.01141930 Model11\n",
       "22 51        roc_auc  hand_till  0.6057574 5 0.03581486 Model11\n",
       "23 56        accuracy multiclass 0.4240496 5 0.01136070 Model12\n",
       "24 56        roc_auc  hand_till  0.6020178 5 0.04095769 Model12"
      ]
     },
     "metadata": {},
     "output_type": "display_data"
    }
   ],
   "source": [
    "#calculating best k\n",
    "sdf_results <- workflow() %>%\n",
    "    add_recipe(sdf_recipe) %>%\n",
    "    add_model(sdf_tune) %>%\n",
    "    tune_grid(resamples = sdf_vfold, grid = k_vals) %>%\n",
    "    collect_metrics\n",
    "sdf_results"
   ]
  },
  {
   "cell_type": "code",
   "execution_count": 70,
   "metadata": {},
   "outputs": [
    {
     "data": {
      "image/png": "[encoded data removed]",
      "text/plain": [
       "plot without title"
      ]
     },
     "metadata": {
      "image/png": {
       "height": 420,
       "width": 420
      }
     },
     "output_type": "display_data"
    }
   ],
   "source": [
    "sdf_results %>%\n",
    "    filter(.metric == \"accuracy\") %>%\n",
    "    ggplot(aes(x = neighbors, y = mean)) +\n",
    "        geom_point()"
   ]
  },
  {
   "cell_type": "code",
   "execution_count": 71,
   "metadata": {},
   "outputs": [
    {
     "data": {
      "text/html": [
       "<table>\n",
       "<caption>A tibble: 12 × 7</caption>\n",
       "<thead>\n",
       "\t<tr><th scope=col>neighbors</th><th scope=col>.metric</th><th scope=col>.estimator</th><th scope=col>mean</th><th scope=col>n</th><th scope=col>std_err</th><th scope=col>.config</th></tr>\n",
       "\t<tr><th scope=col>&lt;dbl&gt;</th><th scope=col>&lt;chr&gt;</th><th scope=col>&lt;chr&gt;</th><th scope=col>&lt;dbl&gt;</th><th scope=col>&lt;int&gt;</th><th scope=col>&lt;dbl&gt;</th><th scope=col>&lt;chr&gt;</th></tr>\n",
       "</thead>\n",
       "<tbody>\n",
       "\t<tr><td>46</td><td>accuracy</td><td>multiclass</td><td>0.4273283</td><td>5</td><td>0.01304850</td><td>Model10</td></tr>\n",
       "\t<tr><td>56</td><td>accuracy</td><td>multiclass</td><td>0.4240496</td><td>5</td><td>0.01136070</td><td>Model12</td></tr>\n",
       "\t<tr><td>51</td><td>accuracy</td><td>multiclass</td><td>0.4239385</td><td>5</td><td>0.01141930</td><td>Model11</td></tr>\n",
       "\t<tr><td>21</td><td>accuracy</td><td>multiclass</td><td>0.4172700</td><td>5</td><td>0.01089321</td><td>Model05</td></tr>\n",
       "\t<tr><td>41</td><td>accuracy</td><td>multiclass</td><td>0.4137708</td><td>5</td><td>0.01925909</td><td>Model09</td></tr>\n",
       "\t<tr><td>⋮</td><td>⋮</td><td>⋮</td><td>⋮</td><td>⋮</td><td>⋮</td><td>⋮</td></tr>\n",
       "\t<tr><td>26</td><td>accuracy</td><td>multiclass</td><td>0.3871495</td><td>5</td><td>0.002549456</td><td>Model06</td></tr>\n",
       "\t<tr><td>16</td><td>accuracy</td><td>multiclass</td><td>0.3670403</td><td>5</td><td>0.020619659</td><td>Model04</td></tr>\n",
       "\t<tr><td>11</td><td>accuracy</td><td>multiclass</td><td>0.3534810</td><td>5</td><td>0.024727701</td><td>Model03</td></tr>\n",
       "\t<tr><td> 1</td><td>accuracy</td><td>multiclass</td><td>0.3495297</td><td>5</td><td>0.039749026</td><td>Model01</td></tr>\n",
       "\t<tr><td> 6</td><td>accuracy</td><td>multiclass</td><td>0.3395767</td><td>5</td><td>0.024629744</td><td>Model02</td></tr>\n",
       "</tbody>\n",
       "</table>\n"
      ],
      "text/latex": [
       "A tibble: 12 × 7\n",
       "\\begin{tabular}{lllllll}\n",
       " neighbors & .metric & .estimator & mean & n & std\\_err & .config\\\\\n",
       " <dbl> & <chr> & <chr> & <dbl> & <int> & <dbl> & <chr>\\\\\n",
       "\\hline\n",
       "\t 46 & accuracy & multiclass & 0.4273283 & 5 & 0.01304850 & Model10\\\\\n",
       "\t 56 & accuracy & multiclass & 0.4240496 & 5 & 0.01136070 & Model12\\\\\n",
       "\t 51 & accuracy & multiclass & 0.4239385 & 5 & 0.01141930 & Model11\\\\\n",
       "\t 21 & accuracy & multiclass & 0.4172700 & 5 & 0.01089321 & Model05\\\\\n",
       "\t 41 & accuracy & multiclass & 0.4137708 & 5 & 0.01925909 & Model09\\\\\n",
       "\t ⋮ & ⋮ & ⋮ & ⋮ & ⋮ & ⋮ & ⋮\\\\\n",
       "\t 26 & accuracy & multiclass & 0.3871495 & 5 & 0.002549456 & Model06\\\\\n",
       "\t 16 & accuracy & multiclass & 0.3670403 & 5 & 0.020619659 & Model04\\\\\n",
       "\t 11 & accuracy & multiclass & 0.3534810 & 5 & 0.024727701 & Model03\\\\\n",
       "\t  1 & accuracy & multiclass & 0.3495297 & 5 & 0.039749026 & Model01\\\\\n",
       "\t  6 & accuracy & multiclass & 0.3395767 & 5 & 0.024629744 & Model02\\\\\n",
       "\\end{tabular}\n"
      ],
      "text/markdown": [
       "\n",
       "A tibble: 12 × 7\n",
       "\n",
       "| neighbors &lt;dbl&gt; | .metric &lt;chr&gt; | .estimator &lt;chr&gt; | mean &lt;dbl&gt; | n &lt;int&gt; | std_err &lt;dbl&gt; | .config &lt;chr&gt; |\n",
       "|---|---|---|---|---|---|---|\n",
       "| 46 | accuracy | multiclass | 0.4273283 | 5 | 0.01304850 | Model10 |\n",
       "| 56 | accuracy | multiclass | 0.4240496 | 5 | 0.01136070 | Model12 |\n",
       "| 51 | accuracy | multiclass | 0.4239385 | 5 | 0.01141930 | Model11 |\n",
       "| 21 | accuracy | multiclass | 0.4172700 | 5 | 0.01089321 | Model05 |\n",
       "| 41 | accuracy | multiclass | 0.4137708 | 5 | 0.01925909 | Model09 |\n",
       "| ⋮ | ⋮ | ⋮ | ⋮ | ⋮ | ⋮ | ⋮ |\n",
       "| 26 | accuracy | multiclass | 0.3871495 | 5 | 0.002549456 | Model06 |\n",
       "| 16 | accuracy | multiclass | 0.3670403 | 5 | 0.020619659 | Model04 |\n",
       "| 11 | accuracy | multiclass | 0.3534810 | 5 | 0.024727701 | Model03 |\n",
       "|  1 | accuracy | multiclass | 0.3495297 | 5 | 0.039749026 | Model01 |\n",
       "|  6 | accuracy | multiclass | 0.3395767 | 5 | 0.024629744 | Model02 |\n",
       "\n"
      ],
      "text/plain": [
       "   neighbors .metric  .estimator mean      n std_err     .config\n",
       "1  46        accuracy multiclass 0.4273283 5 0.01304850  Model10\n",
       "2  56        accuracy multiclass 0.4240496 5 0.01136070  Model12\n",
       "3  51        accuracy multiclass 0.4239385 5 0.01141930  Model11\n",
       "4  21        accuracy multiclass 0.4172700 5 0.01089321  Model05\n",
       "5  41        accuracy multiclass 0.4137708 5 0.01925909  Model09\n",
       "⋮  ⋮         ⋮        ⋮          ⋮         ⋮ ⋮           ⋮      \n",
       "8  26        accuracy multiclass 0.3871495 5 0.002549456 Model06\n",
       "9  16        accuracy multiclass 0.3670403 5 0.020619659 Model04\n",
       "10 11        accuracy multiclass 0.3534810 5 0.024727701 Model03\n",
       "11  1        accuracy multiclass 0.3495297 5 0.039749026 Model01\n",
       "12  6        accuracy multiclass 0.3395767 5 0.024629744 Model02"
      ]
     },
     "metadata": {},
     "output_type": "display_data"
    },
    {
     "data": {
      "text/html": [
       "46"
      ],
      "text/latex": [
       "46"
      ],
      "text/markdown": [
       "46"
      ],
      "text/plain": [
       "[1] 46"
      ]
     },
     "metadata": {},
     "output_type": "display_data"
    }
   ],
   "source": [
    "#pulling out best k (usually 21/26)\n",
    "sdf_accuracies <- sdf_results %>%\n",
    "    filter(.metric == \"accuracy\") %>%\n",
    "    arrange(desc(mean))\n",
    "sdf_accuracies\n",
    "\n",
    "sdf_k_best <- sdf_accuracies %>%\n",
    "    slice(1) %>%\n",
    "    pull(neighbors)\n",
    "sdf_k_best"
   ]
  },
  {
   "cell_type": "code",
   "execution_count": 72,
   "metadata": {},
   "outputs": [
    {
     "data": {
      "text/html": [
       "<table>\n",
       "<caption>A tibble: 2 × 3</caption>\n",
       "<thead>\n",
       "\t<tr><th scope=col>.metric</th><th scope=col>.estimator</th><th scope=col>.estimate</th></tr>\n",
       "\t<tr><th scope=col>&lt;chr&gt;</th><th scope=col>&lt;chr&gt;</th><th scope=col>&lt;dbl&gt;</th></tr>\n",
       "</thead>\n",
       "<tbody>\n",
       "\t<tr><td>accuracy</td><td>multiclass</td><td>0.4591837</td></tr>\n",
       "\t<tr><td>kap     </td><td>multiclass</td><td>0.1010730</td></tr>\n",
       "</tbody>\n",
       "</table>\n"
      ],
      "text/latex": [
       "A tibble: 2 × 3\n",
       "\\begin{tabular}{lll}\n",
       " .metric & .estimator & .estimate\\\\\n",
       " <chr> & <chr> & <dbl>\\\\\n",
       "\\hline\n",
       "\t accuracy & multiclass & 0.4591837\\\\\n",
       "\t kap      & multiclass & 0.1010730\\\\\n",
       "\\end{tabular}\n"
      ],
      "text/markdown": [
       "\n",
       "A tibble: 2 × 3\n",
       "\n",
       "| .metric &lt;chr&gt; | .estimator &lt;chr&gt; | .estimate &lt;dbl&gt; |\n",
       "|---|---|---|\n",
       "| accuracy | multiclass | 0.4591837 |\n",
       "| kap      | multiclass | 0.1010730 |\n",
       "\n"
      ],
      "text/plain": [
       "  .metric  .estimator .estimate\n",
       "1 accuracy multiclass 0.4591837\n",
       "2 kap      multiclass 0.1010730"
      ]
     },
     "metadata": {},
     "output_type": "display_data"
    }
   ],
   "source": [
    "#testing accuracy on testing set (usually around 50%)\n",
    "sdf_spec <- nearest_neighbor(weight_func = \"rectangular\", neighbors = sdf_k_best) %>%\n",
    "    set_engine(\"kknn\") %>%\n",
    "    set_mode(\"classification\")\n",
    "\n",
    "sdf_model <- workflow() %>%\n",
    "    add_recipe(sdf_recipe) %>%\n",
    "    add_model(sdf_spec) %>%\n",
    "    fit(sdf_train)\n",
    "\n",
    "sdf_predictions <- predict(sdf_model, sdf_test)\n",
    "\n",
    "sdf_results <- sdf_predictions %>%\n",
    "    bind_cols(sdf_test) %>%\n",
    "    metrics(truth = G3, estimate = .pred_class)\n",
    "sdf_results"
   ]
  },
  {
   "cell_type": "markdown",
   "metadata": {},
   "source": [
    "With 4 categories (0:4 = F, 5:9 = C, 10:14 = B, 15:20 = A)\n",
    "best k is usually around 21/26, accuracy was around 50%\n",
    "\n",
    "with 5 categories (0:3 = F, 4:7 = D, 8:11 = C, 12:15 = B, 16:20 = A)\n",
    "best k is usually around 21 to 31, accuracy is around 40%\n",
    "\n",
    "using only two categories (0:9 = fail, 10:20 = pass), accuracy is around 40 - 50\n",
    "\n",
    "If data is upsampled, best k is always 1, data is overfit"
   ]
  },
  {
   "cell_type": "code",
   "execution_count": null,
   "metadata": {},
   "outputs": [],
   "source": []
  }
 ],
 "metadata": {
  "kernelspec": {
   "display_name": "R",
   "language": "R",
   "name": "ir"
  },
  "language_info": {
   "codemirror_mode": "r",
   "file_extension": ".r",
   "mimetype": "text/x-r-source",
   "name": "R",
   "pygments_lexer": "r",
   "version": "4.0.0"
  }
 },
 "nbformat": 4,
 "nbformat_minor": 4
}
