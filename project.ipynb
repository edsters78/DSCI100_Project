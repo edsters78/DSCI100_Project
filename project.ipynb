{
 "cells": [
  {
   "cell_type": "markdown",
   "metadata": {},
   "source": [
    "Reminders:\n",
    "\n",
    "Since the grades are classified using numbers 1-20, we should check for inbalances (i.e. if there's only one 17)\n",
    "\n",
    "The final report consists of a model, as well as intpreting what the accuracy could mean"
   ]
  },
  {
   "cell_type": "markdown",
   "metadata": {},
   "source": [
    "https://raw.githubusercontent.com/edsters78/Project_Proposal/main/student-mat.csv <br> \n",
    "This is the link to the data set we are using."
   ]
  },
  {
   "cell_type": "code",
   "execution_count": 1,
   "metadata": {},
   "outputs": [
    {
     "name": "stderr",
     "output_type": "stream",
     "text": [
      "── \u001b[1mAttaching packages\u001b[22m ─────────────────────────────────────── tidyverse 1.3.0 ──\n",
      "\n",
      "\u001b[32m✔\u001b[39m \u001b[34mggplot2\u001b[39m 3.3.2     \u001b[32m✔\u001b[39m \u001b[34mpurrr  \u001b[39m 0.3.4\n",
      "\u001b[32m✔\u001b[39m \u001b[34mtibble \u001b[39m 3.0.3     \u001b[32m✔\u001b[39m \u001b[34mdplyr  \u001b[39m 1.0.2\n",
      "\u001b[32m✔\u001b[39m \u001b[34mtidyr  \u001b[39m 1.1.2     \u001b[32m✔\u001b[39m \u001b[34mstringr\u001b[39m 1.4.0\n",
      "\u001b[32m✔\u001b[39m \u001b[34mreadr  \u001b[39m 1.3.1     \u001b[32m✔\u001b[39m \u001b[34mforcats\u001b[39m 0.5.0\n",
      "\n",
      "Warning message:\n",
      "“package ‘ggplot2’ was built under R version 4.0.1”\n",
      "Warning message:\n",
      "“package ‘tibble’ was built under R version 4.0.2”\n",
      "Warning message:\n",
      "“package ‘tidyr’ was built under R version 4.0.2”\n",
      "Warning message:\n",
      "“package ‘dplyr’ was built under R version 4.0.2”\n",
      "── \u001b[1mConflicts\u001b[22m ────────────────────────────────────────── tidyverse_conflicts() ──\n",
      "\u001b[31m✖\u001b[39m \u001b[34mdplyr\u001b[39m::\u001b[32mfilter()\u001b[39m masks \u001b[34mstats\u001b[39m::filter()\n",
      "\u001b[31m✖\u001b[39m \u001b[34mdplyr\u001b[39m::\u001b[32mlag()\u001b[39m    masks \u001b[34mstats\u001b[39m::lag()\n",
      "\n",
      "Warning message:\n",
      "“package ‘tidymodels’ was built under R version 4.0.2”\n",
      "── \u001b[1mAttaching packages\u001b[22m ────────────────────────────────────── tidymodels 0.1.1 ──\n",
      "\n",
      "\u001b[32m✔\u001b[39m \u001b[34mbroom    \u001b[39m 0.7.0      \u001b[32m✔\u001b[39m \u001b[34mrecipes  \u001b[39m 0.1.13\n",
      "\u001b[32m✔\u001b[39m \u001b[34mdials    \u001b[39m 0.0.9      \u001b[32m✔\u001b[39m \u001b[34mrsample  \u001b[39m 0.0.7 \n",
      "\u001b[32m✔\u001b[39m \u001b[34minfer    \u001b[39m 0.5.4      \u001b[32m✔\u001b[39m \u001b[34mtune     \u001b[39m 0.1.1 \n",
      "\u001b[32m✔\u001b[39m \u001b[34mmodeldata\u001b[39m 0.0.2      \u001b[32m✔\u001b[39m \u001b[34mworkflows\u001b[39m 0.2.0 \n",
      "\u001b[32m✔\u001b[39m \u001b[34mparsnip  \u001b[39m 0.1.3      \u001b[32m✔\u001b[39m \u001b[34myardstick\u001b[39m 0.0.7 \n",
      "\n",
      "Warning message:\n",
      "“package ‘broom’ was built under R version 4.0.2”\n",
      "Warning message:\n",
      "“package ‘dials’ was built under R version 4.0.2”\n",
      "Warning message:\n",
      "“package ‘infer’ was built under R version 4.0.3”\n",
      "Warning message:\n",
      "“package ‘modeldata’ was built under R version 4.0.1”\n",
      "Warning message:\n",
      "“package ‘parsnip’ was built under R version 4.0.2”\n",
      "Warning message:\n",
      "“package ‘recipes’ was built under R version 4.0.1”\n",
      "Warning message:\n",
      "“package ‘tune’ was built under R version 4.0.2”\n",
      "Warning message:\n",
      "“package ‘workflows’ was built under R version 4.0.2”\n",
      "Warning message:\n",
      "“package ‘yardstick’ was built under R version 4.0.2”\n",
      "── \u001b[1mConflicts\u001b[22m ───────────────────────────────────────── tidymodels_conflicts() ──\n",
      "\u001b[31m✖\u001b[39m \u001b[34mscales\u001b[39m::\u001b[32mdiscard()\u001b[39m masks \u001b[34mpurrr\u001b[39m::discard()\n",
      "\u001b[31m✖\u001b[39m \u001b[34mdplyr\u001b[39m::\u001b[32mfilter()\u001b[39m   masks \u001b[34mstats\u001b[39m::filter()\n",
      "\u001b[31m✖\u001b[39m \u001b[34mrecipes\u001b[39m::\u001b[32mfixed()\u001b[39m  masks \u001b[34mstringr\u001b[39m::fixed()\n",
      "\u001b[31m✖\u001b[39m \u001b[34mdplyr\u001b[39m::\u001b[32mlag()\u001b[39m      masks \u001b[34mstats\u001b[39m::lag()\n",
      "\u001b[31m✖\u001b[39m \u001b[34myardstick\u001b[39m::\u001b[32mspec()\u001b[39m masks \u001b[34mreadr\u001b[39m::spec()\n",
      "\u001b[31m✖\u001b[39m \u001b[34mrecipes\u001b[39m::\u001b[32mstep()\u001b[39m   masks \u001b[34mstats\u001b[39m::step()\n",
      "\n",
      "Warning message:\n",
      "“package ‘cowplot’ was built under R version 4.0.3”\n"
     ]
    }
   ],
   "source": [
    "library(tidyverse)\n",
    "library(repr)\n",
    "library(tidymodels)\n",
    "library(cowplot)\n",
    "library(scales)\n",
    "#library(dplyr)"
   ]
  },
  {
   "cell_type": "markdown",
   "metadata": {},
   "source": [
    "# Predicting a Student's Success"
   ]
  },
  {
   "cell_type": "markdown",
   "metadata": {},
   "source": [
    "## Introduction"
   ]
  },
  {
   "cell_type": "markdown",
   "metadata": {},
   "source": []
  },
  {
   "cell_type": "code",
   "execution_count": 2,
   "metadata": {},
   "outputs": [
    {
     "name": "stderr",
     "output_type": "stream",
     "text": [
      "Parsed with column specification:\n",
      "cols(\n",
      "  .default = col_character(),\n",
      "  age = \u001b[32mcol_double()\u001b[39m,\n",
      "  Medu = \u001b[32mcol_double()\u001b[39m,\n",
      "  Fedu = \u001b[32mcol_double()\u001b[39m,\n",
      "  traveltime = \u001b[32mcol_double()\u001b[39m,\n",
      "  studytime = \u001b[32mcol_double()\u001b[39m,\n",
      "  failures = \u001b[32mcol_double()\u001b[39m,\n",
      "  famrel = \u001b[32mcol_double()\u001b[39m,\n",
      "  freetime = \u001b[32mcol_double()\u001b[39m,\n",
      "  goout = \u001b[32mcol_double()\u001b[39m,\n",
      "  Dalc = \u001b[32mcol_double()\u001b[39m,\n",
      "  Walc = \u001b[32mcol_double()\u001b[39m,\n",
      "  health = \u001b[32mcol_double()\u001b[39m,\n",
      "  absences = \u001b[32mcol_double()\u001b[39m,\n",
      "  G1 = \u001b[32mcol_double()\u001b[39m,\n",
      "  G2 = \u001b[32mcol_double()\u001b[39m,\n",
      "  G3 = \u001b[32mcol_double()\u001b[39m\n",
      ")\n",
      "\n",
      "See spec(...) for full column specifications.\n",
      "\n"
     ]
    }
   ],
   "source": [
    "#reading data from web\n",
    "options(repr.matrix.max.rows = 10)\n",
    "url<-\"https://raw.githubusercontent.com/edsters78/Project_Proposal/main/student-mat.csv\"\n",
    "student_data<-read_csv(url)\n",
    "#student_data"
   ]
  },
  {
   "cell_type": "code",
   "execution_count": 3,
   "metadata": {},
   "outputs": [
    {
     "data": {
      "text/html": [
       "<table>\n",
       "<caption>A tibble: 395 × 15</caption>\n",
       "<thead>\n",
       "\t<tr><th scope=col>sex</th><th scope=col>address</th><th scope=col>Medu</th><th scope=col>Fedu</th><th scope=col>traveltime</th><th scope=col>studytime</th><th scope=col>paid</th><th scope=col>activities</th><th scope=col>internet</th><th scope=col>famrel</th><th scope=col>Dalc</th><th scope=col>Walc</th><th scope=col>health</th><th scope=col>absences</th><th scope=col>G3</th></tr>\n",
       "\t<tr><th scope=col>&lt;dbl&gt;</th><th scope=col>&lt;dbl&gt;</th><th scope=col>&lt;dbl&gt;</th><th scope=col>&lt;dbl&gt;</th><th scope=col>&lt;dbl&gt;</th><th scope=col>&lt;dbl&gt;</th><th scope=col>&lt;dbl&gt;</th><th scope=col>&lt;dbl&gt;</th><th scope=col>&lt;dbl&gt;</th><th scope=col>&lt;dbl&gt;</th><th scope=col>&lt;dbl&gt;</th><th scope=col>&lt;dbl&gt;</th><th scope=col>&lt;dbl&gt;</th><th scope=col>&lt;dbl&gt;</th><th scope=col>&lt;dbl&gt;</th></tr>\n",
       "</thead>\n",
       "<tbody>\n",
       "\t<tr><td>1</td><td>1</td><td>4</td><td>4</td><td>2</td><td>2</td><td>0</td><td>0</td><td>0</td><td>4</td><td>1</td><td>1</td><td>3</td><td> 6</td><td> 6</td></tr>\n",
       "\t<tr><td>1</td><td>1</td><td>1</td><td>1</td><td>1</td><td>2</td><td>0</td><td>0</td><td>1</td><td>5</td><td>1</td><td>1</td><td>3</td><td> 4</td><td> 6</td></tr>\n",
       "\t<tr><td>1</td><td>1</td><td>1</td><td>1</td><td>1</td><td>2</td><td>1</td><td>0</td><td>1</td><td>4</td><td>2</td><td>3</td><td>3</td><td>10</td><td>10</td></tr>\n",
       "\t<tr><td>1</td><td>1</td><td>4</td><td>2</td><td>1</td><td>3</td><td>1</td><td>1</td><td>1</td><td>3</td><td>1</td><td>1</td><td>5</td><td> 2</td><td>15</td></tr>\n",
       "\t<tr><td>1</td><td>1</td><td>3</td><td>3</td><td>1</td><td>2</td><td>1</td><td>0</td><td>0</td><td>4</td><td>1</td><td>2</td><td>5</td><td> 4</td><td>10</td></tr>\n",
       "\t<tr><td>⋮</td><td>⋮</td><td>⋮</td><td>⋮</td><td>⋮</td><td>⋮</td><td>⋮</td><td>⋮</td><td>⋮</td><td>⋮</td><td>⋮</td><td>⋮</td><td>⋮</td><td>⋮</td><td>⋮</td></tr>\n",
       "\t<tr><td>0</td><td>1</td><td>2</td><td>2</td><td>1</td><td>2</td><td>1</td><td>0</td><td>0</td><td>5</td><td>4</td><td>5</td><td>4</td><td>11</td><td> 9</td></tr>\n",
       "\t<tr><td>0</td><td>1</td><td>3</td><td>1</td><td>2</td><td>1</td><td>0</td><td>0</td><td>1</td><td>2</td><td>3</td><td>4</td><td>2</td><td> 3</td><td>16</td></tr>\n",
       "\t<tr><td>0</td><td>0</td><td>1</td><td>1</td><td>1</td><td>1</td><td>0</td><td>0</td><td>0</td><td>5</td><td>3</td><td>3</td><td>3</td><td> 3</td><td> 7</td></tr>\n",
       "\t<tr><td>0</td><td>0</td><td>3</td><td>2</td><td>3</td><td>1</td><td>0</td><td>0</td><td>1</td><td>4</td><td>3</td><td>4</td><td>5</td><td> 0</td><td>10</td></tr>\n",
       "\t<tr><td>0</td><td>1</td><td>1</td><td>1</td><td>1</td><td>1</td><td>0</td><td>0</td><td>1</td><td>3</td><td>3</td><td>3</td><td>5</td><td> 5</td><td> 9</td></tr>\n",
       "</tbody>\n",
       "</table>\n"
      ],
      "text/latex": [
       "A tibble: 395 × 15\n",
       "\\begin{tabular}{lllllllllllllll}\n",
       " sex & address & Medu & Fedu & traveltime & studytime & paid & activities & internet & famrel & Dalc & Walc & health & absences & G3\\\\\n",
       " <dbl> & <dbl> & <dbl> & <dbl> & <dbl> & <dbl> & <dbl> & <dbl> & <dbl> & <dbl> & <dbl> & <dbl> & <dbl> & <dbl> & <dbl>\\\\\n",
       "\\hline\n",
       "\t 1 & 1 & 4 & 4 & 2 & 2 & 0 & 0 & 0 & 4 & 1 & 1 & 3 &  6 &  6\\\\\n",
       "\t 1 & 1 & 1 & 1 & 1 & 2 & 0 & 0 & 1 & 5 & 1 & 1 & 3 &  4 &  6\\\\\n",
       "\t 1 & 1 & 1 & 1 & 1 & 2 & 1 & 0 & 1 & 4 & 2 & 3 & 3 & 10 & 10\\\\\n",
       "\t 1 & 1 & 4 & 2 & 1 & 3 & 1 & 1 & 1 & 3 & 1 & 1 & 5 &  2 & 15\\\\\n",
       "\t 1 & 1 & 3 & 3 & 1 & 2 & 1 & 0 & 0 & 4 & 1 & 2 & 5 &  4 & 10\\\\\n",
       "\t ⋮ & ⋮ & ⋮ & ⋮ & ⋮ & ⋮ & ⋮ & ⋮ & ⋮ & ⋮ & ⋮ & ⋮ & ⋮ & ⋮ & ⋮\\\\\n",
       "\t 0 & 1 & 2 & 2 & 1 & 2 & 1 & 0 & 0 & 5 & 4 & 5 & 4 & 11 &  9\\\\\n",
       "\t 0 & 1 & 3 & 1 & 2 & 1 & 0 & 0 & 1 & 2 & 3 & 4 & 2 &  3 & 16\\\\\n",
       "\t 0 & 0 & 1 & 1 & 1 & 1 & 0 & 0 & 0 & 5 & 3 & 3 & 3 &  3 &  7\\\\\n",
       "\t 0 & 0 & 3 & 2 & 3 & 1 & 0 & 0 & 1 & 4 & 3 & 4 & 5 &  0 & 10\\\\\n",
       "\t 0 & 1 & 1 & 1 & 1 & 1 & 0 & 0 & 1 & 3 & 3 & 3 & 5 &  5 &  9\\\\\n",
       "\\end{tabular}\n"
      ],
      "text/markdown": [
       "\n",
       "A tibble: 395 × 15\n",
       "\n",
       "| sex &lt;dbl&gt; | address &lt;dbl&gt; | Medu &lt;dbl&gt; | Fedu &lt;dbl&gt; | traveltime &lt;dbl&gt; | studytime &lt;dbl&gt; | paid &lt;dbl&gt; | activities &lt;dbl&gt; | internet &lt;dbl&gt; | famrel &lt;dbl&gt; | Dalc &lt;dbl&gt; | Walc &lt;dbl&gt; | health &lt;dbl&gt; | absences &lt;dbl&gt; | G3 &lt;dbl&gt; |\n",
       "|---|---|---|---|---|---|---|---|---|---|---|---|---|---|---|\n",
       "| 1 | 1 | 4 | 4 | 2 | 2 | 0 | 0 | 0 | 4 | 1 | 1 | 3 |  6 |  6 |\n",
       "| 1 | 1 | 1 | 1 | 1 | 2 | 0 | 0 | 1 | 5 | 1 | 1 | 3 |  4 |  6 |\n",
       "| 1 | 1 | 1 | 1 | 1 | 2 | 1 | 0 | 1 | 4 | 2 | 3 | 3 | 10 | 10 |\n",
       "| 1 | 1 | 4 | 2 | 1 | 3 | 1 | 1 | 1 | 3 | 1 | 1 | 5 |  2 | 15 |\n",
       "| 1 | 1 | 3 | 3 | 1 | 2 | 1 | 0 | 0 | 4 | 1 | 2 | 5 |  4 | 10 |\n",
       "| ⋮ | ⋮ | ⋮ | ⋮ | ⋮ | ⋮ | ⋮ | ⋮ | ⋮ | ⋮ | ⋮ | ⋮ | ⋮ | ⋮ | ⋮ |\n",
       "| 0 | 1 | 2 | 2 | 1 | 2 | 1 | 0 | 0 | 5 | 4 | 5 | 4 | 11 |  9 |\n",
       "| 0 | 1 | 3 | 1 | 2 | 1 | 0 | 0 | 1 | 2 | 3 | 4 | 2 |  3 | 16 |\n",
       "| 0 | 0 | 1 | 1 | 1 | 1 | 0 | 0 | 0 | 5 | 3 | 3 | 3 |  3 |  7 |\n",
       "| 0 | 0 | 3 | 2 | 3 | 1 | 0 | 0 | 1 | 4 | 3 | 4 | 5 |  0 | 10 |\n",
       "| 0 | 1 | 1 | 1 | 1 | 1 | 0 | 0 | 1 | 3 | 3 | 3 | 5 |  5 |  9 |\n",
       "\n"
      ],
      "text/plain": [
       "    sex address Medu Fedu traveltime studytime paid activities internet famrel\n",
       "1   1   1       4    4    2          2         0    0          0        4     \n",
       "2   1   1       1    1    1          2         0    0          1        5     \n",
       "3   1   1       1    1    1          2         1    0          1        4     \n",
       "4   1   1       4    2    1          3         1    1          1        3     \n",
       "5   1   1       3    3    1          2         1    0          0        4     \n",
       "⋮   ⋮   ⋮       ⋮    ⋮    ⋮          ⋮         ⋮    ⋮          ⋮        ⋮     \n",
       "391 0   1       2    2    1          2         1    0          0        5     \n",
       "392 0   1       3    1    2          1         0    0          1        2     \n",
       "393 0   0       1    1    1          1         0    0          0        5     \n",
       "394 0   0       3    2    3          1         0    0          1        4     \n",
       "395 0   1       1    1    1          1         0    0          1        3     \n",
       "    Dalc Walc health absences G3\n",
       "1   1    1    3       6        6\n",
       "2   1    1    3       4        6\n",
       "3   2    3    3      10       10\n",
       "4   1    1    5       2       15\n",
       "5   1    2    5       4       10\n",
       "⋮   ⋮    ⋮    ⋮      ⋮        ⋮ \n",
       "391 4    5    4      11        9\n",
       "392 3    4    2       3       16\n",
       "393 3    3    3       3        7\n",
       "394 3    4    5       0       10\n",
       "395 3    3    5       5        9"
      ]
     },
     "metadata": {},
     "output_type": "display_data"
    }
   ],
   "source": [
    "#tidying the data\n",
    "#selecting only the variables that will be most relevant\n",
    "student_data_clean <- student_data %>%\n",
    "    select(sex, address, Medu, Fedu, traveltime, studytime, paid, activities, internet, famrel, Dalc, Walc, health, absences, G3) \n",
    "#student_data_clean\n",
    "\n",
    "student_data_clean_nonly <- student_data_clean %>%\n",
    "    mutate(sex = ifelse(sex == \"F\", 1, 0), #1 is female, 0 is male\n",
    "          address = ifelse(address == \"U\", 1, 0), #1 is Urban, 0 is Rural\n",
    "          paid = ifelse(paid == \"yes\", 1, 0), #1 is yes, 0 is no\n",
    "          activities = ifelse(activities == \"yes\", 1, 0), #1 is yes, 0 is no\n",
    "          internet = ifelse(internet == \"yes\", 1, 0)) #1 is yes, 0 is no\n",
    "student_data_clean_nonly"
   ]
  },
  {
   "cell_type": "code",
   "execution_count": 4,
   "metadata": {},
   "outputs": [
    {
     "data": {
      "text/html": [
       "<table>\n",
       "<caption>A tibble: 298 × 15</caption>\n",
       "<thead>\n",
       "\t<tr><th scope=col>sex</th><th scope=col>address</th><th scope=col>Medu</th><th scope=col>Fedu</th><th scope=col>traveltime</th><th scope=col>studytime</th><th scope=col>paid</th><th scope=col>activities</th><th scope=col>internet</th><th scope=col>famrel</th><th scope=col>Dalc</th><th scope=col>Walc</th><th scope=col>health</th><th scope=col>absences</th><th scope=col>G3</th></tr>\n",
       "\t<tr><th scope=col>&lt;dbl&gt;</th><th scope=col>&lt;dbl&gt;</th><th scope=col>&lt;dbl&gt;</th><th scope=col>&lt;dbl&gt;</th><th scope=col>&lt;dbl&gt;</th><th scope=col>&lt;dbl&gt;</th><th scope=col>&lt;dbl&gt;</th><th scope=col>&lt;dbl&gt;</th><th scope=col>&lt;dbl&gt;</th><th scope=col>&lt;dbl&gt;</th><th scope=col>&lt;dbl&gt;</th><th scope=col>&lt;dbl&gt;</th><th scope=col>&lt;dbl&gt;</th><th scope=col>&lt;dbl&gt;</th><th scope=col>&lt;dbl&gt;</th></tr>\n",
       "</thead>\n",
       "<tbody>\n",
       "\t<tr><td>1</td><td>1</td><td>1</td><td>1</td><td>1</td><td>2</td><td>0</td><td>0</td><td>1</td><td>5</td><td>1</td><td>1</td><td>3</td><td> 4</td><td> 6</td></tr>\n",
       "\t<tr><td>1</td><td>1</td><td>1</td><td>1</td><td>1</td><td>2</td><td>1</td><td>0</td><td>1</td><td>4</td><td>2</td><td>3</td><td>3</td><td>10</td><td>10</td></tr>\n",
       "\t<tr><td>1</td><td>1</td><td>4</td><td>2</td><td>1</td><td>3</td><td>1</td><td>1</td><td>1</td><td>3</td><td>1</td><td>1</td><td>5</td><td> 2</td><td>15</td></tr>\n",
       "\t<tr><td>1</td><td>1</td><td>3</td><td>3</td><td>1</td><td>2</td><td>1</td><td>0</td><td>0</td><td>4</td><td>1</td><td>2</td><td>5</td><td> 4</td><td>10</td></tr>\n",
       "\t<tr><td>0</td><td>1</td><td>4</td><td>3</td><td>1</td><td>2</td><td>1</td><td>1</td><td>1</td><td>5</td><td>1</td><td>2</td><td>5</td><td>10</td><td>15</td></tr>\n",
       "\t<tr><td>⋮</td><td>⋮</td><td>⋮</td><td>⋮</td><td>⋮</td><td>⋮</td><td>⋮</td><td>⋮</td><td>⋮</td><td>⋮</td><td>⋮</td><td>⋮</td><td>⋮</td><td>⋮</td><td>⋮</td></tr>\n",
       "\t<tr><td>0</td><td>1</td><td>2</td><td>2</td><td>1</td><td>2</td><td>1</td><td>0</td><td>0</td><td>5</td><td>4</td><td>5</td><td>4</td><td>11</td><td> 9</td></tr>\n",
       "\t<tr><td>0</td><td>1</td><td>3</td><td>1</td><td>2</td><td>1</td><td>0</td><td>0</td><td>1</td><td>2</td><td>3</td><td>4</td><td>2</td><td> 3</td><td>16</td></tr>\n",
       "\t<tr><td>0</td><td>0</td><td>1</td><td>1</td><td>1</td><td>1</td><td>0</td><td>0</td><td>0</td><td>5</td><td>3</td><td>3</td><td>3</td><td> 3</td><td> 7</td></tr>\n",
       "\t<tr><td>0</td><td>0</td><td>3</td><td>2</td><td>3</td><td>1</td><td>0</td><td>0</td><td>1</td><td>4</td><td>3</td><td>4</td><td>5</td><td> 0</td><td>10</td></tr>\n",
       "\t<tr><td>0</td><td>1</td><td>1</td><td>1</td><td>1</td><td>1</td><td>0</td><td>0</td><td>1</td><td>3</td><td>3</td><td>3</td><td>5</td><td> 5</td><td> 9</td></tr>\n",
       "</tbody>\n",
       "</table>\n"
      ],
      "text/latex": [
       "A tibble: 298 × 15\n",
       "\\begin{tabular}{lllllllllllllll}\n",
       " sex & address & Medu & Fedu & traveltime & studytime & paid & activities & internet & famrel & Dalc & Walc & health & absences & G3\\\\\n",
       " <dbl> & <dbl> & <dbl> & <dbl> & <dbl> & <dbl> & <dbl> & <dbl> & <dbl> & <dbl> & <dbl> & <dbl> & <dbl> & <dbl> & <dbl>\\\\\n",
       "\\hline\n",
       "\t 1 & 1 & 1 & 1 & 1 & 2 & 0 & 0 & 1 & 5 & 1 & 1 & 3 &  4 &  6\\\\\n",
       "\t 1 & 1 & 1 & 1 & 1 & 2 & 1 & 0 & 1 & 4 & 2 & 3 & 3 & 10 & 10\\\\\n",
       "\t 1 & 1 & 4 & 2 & 1 & 3 & 1 & 1 & 1 & 3 & 1 & 1 & 5 &  2 & 15\\\\\n",
       "\t 1 & 1 & 3 & 3 & 1 & 2 & 1 & 0 & 0 & 4 & 1 & 2 & 5 &  4 & 10\\\\\n",
       "\t 0 & 1 & 4 & 3 & 1 & 2 & 1 & 1 & 1 & 5 & 1 & 2 & 5 & 10 & 15\\\\\n",
       "\t ⋮ & ⋮ & ⋮ & ⋮ & ⋮ & ⋮ & ⋮ & ⋮ & ⋮ & ⋮ & ⋮ & ⋮ & ⋮ & ⋮ & ⋮\\\\\n",
       "\t 0 & 1 & 2 & 2 & 1 & 2 & 1 & 0 & 0 & 5 & 4 & 5 & 4 & 11 &  9\\\\\n",
       "\t 0 & 1 & 3 & 1 & 2 & 1 & 0 & 0 & 1 & 2 & 3 & 4 & 2 &  3 & 16\\\\\n",
       "\t 0 & 0 & 1 & 1 & 1 & 1 & 0 & 0 & 0 & 5 & 3 & 3 & 3 &  3 &  7\\\\\n",
       "\t 0 & 0 & 3 & 2 & 3 & 1 & 0 & 0 & 1 & 4 & 3 & 4 & 5 &  0 & 10\\\\\n",
       "\t 0 & 1 & 1 & 1 & 1 & 1 & 0 & 0 & 1 & 3 & 3 & 3 & 5 &  5 &  9\\\\\n",
       "\\end{tabular}\n"
      ],
      "text/markdown": [
       "\n",
       "A tibble: 298 × 15\n",
       "\n",
       "| sex &lt;dbl&gt; | address &lt;dbl&gt; | Medu &lt;dbl&gt; | Fedu &lt;dbl&gt; | traveltime &lt;dbl&gt; | studytime &lt;dbl&gt; | paid &lt;dbl&gt; | activities &lt;dbl&gt; | internet &lt;dbl&gt; | famrel &lt;dbl&gt; | Dalc &lt;dbl&gt; | Walc &lt;dbl&gt; | health &lt;dbl&gt; | absences &lt;dbl&gt; | G3 &lt;dbl&gt; |\n",
       "|---|---|---|---|---|---|---|---|---|---|---|---|---|---|---|\n",
       "| 1 | 1 | 1 | 1 | 1 | 2 | 0 | 0 | 1 | 5 | 1 | 1 | 3 |  4 |  6 |\n",
       "| 1 | 1 | 1 | 1 | 1 | 2 | 1 | 0 | 1 | 4 | 2 | 3 | 3 | 10 | 10 |\n",
       "| 1 | 1 | 4 | 2 | 1 | 3 | 1 | 1 | 1 | 3 | 1 | 1 | 5 |  2 | 15 |\n",
       "| 1 | 1 | 3 | 3 | 1 | 2 | 1 | 0 | 0 | 4 | 1 | 2 | 5 |  4 | 10 |\n",
       "| 0 | 1 | 4 | 3 | 1 | 2 | 1 | 1 | 1 | 5 | 1 | 2 | 5 | 10 | 15 |\n",
       "| ⋮ | ⋮ | ⋮ | ⋮ | ⋮ | ⋮ | ⋮ | ⋮ | ⋮ | ⋮ | ⋮ | ⋮ | ⋮ | ⋮ | ⋮ |\n",
       "| 0 | 1 | 2 | 2 | 1 | 2 | 1 | 0 | 0 | 5 | 4 | 5 | 4 | 11 |  9 |\n",
       "| 0 | 1 | 3 | 1 | 2 | 1 | 0 | 0 | 1 | 2 | 3 | 4 | 2 |  3 | 16 |\n",
       "| 0 | 0 | 1 | 1 | 1 | 1 | 0 | 0 | 0 | 5 | 3 | 3 | 3 |  3 |  7 |\n",
       "| 0 | 0 | 3 | 2 | 3 | 1 | 0 | 0 | 1 | 4 | 3 | 4 | 5 |  0 | 10 |\n",
       "| 0 | 1 | 1 | 1 | 1 | 1 | 0 | 0 | 1 | 3 | 3 | 3 | 5 |  5 |  9 |\n",
       "\n"
      ],
      "text/plain": [
       "    sex address Medu Fedu traveltime studytime paid activities internet famrel\n",
       "1   1   1       1    1    1          2         0    0          1        5     \n",
       "2   1   1       1    1    1          2         1    0          1        4     \n",
       "3   1   1       4    2    1          3         1    1          1        3     \n",
       "4   1   1       3    3    1          2         1    0          0        4     \n",
       "5   0   1       4    3    1          2         1    1          1        5     \n",
       "⋮   ⋮   ⋮       ⋮    ⋮    ⋮          ⋮         ⋮    ⋮          ⋮        ⋮     \n",
       "294 0   1       2    2    1          2         1    0          0        5     \n",
       "295 0   1       3    1    2          1         0    0          1        2     \n",
       "296 0   0       1    1    1          1         0    0          0        5     \n",
       "297 0   0       3    2    3          1         0    0          1        4     \n",
       "298 0   1       1    1    1          1         0    0          1        3     \n",
       "    Dalc Walc health absences G3\n",
       "1   1    1    3       4        6\n",
       "2   2    3    3      10       10\n",
       "3   1    1    5       2       15\n",
       "4   1    2    5       4       10\n",
       "5   1    2    5      10       15\n",
       "⋮   ⋮    ⋮    ⋮      ⋮        ⋮ \n",
       "294 4    5    4      11        9\n",
       "295 3    4    2       3       16\n",
       "296 3    3    3       3        7\n",
       "297 3    4    5       0       10\n",
       "298 3    3    5       5        9"
      ]
     },
     "metadata": {},
     "output_type": "display_data"
    }
   ],
   "source": [
    "#splitting into training and testing data\n",
    "student_split <- initial_split(student_data_clean_nonly, prop = 0.75, strat = G3)\n",
    "student_train <- training(student_split)\n",
    "student_test <- testing(student_split)\n",
    "\n",
    "student_train\n",
    "#student_test"
   ]
  },
  {
   "cell_type": "code",
   "execution_count": 5,
   "metadata": {},
   "outputs": [
    {
     "name": "stderr",
     "output_type": "stream",
     "text": [
      "`summarise()` ungrouping output (override with `.groups` argument)\n",
      "\n"
     ]
    },
    {
     "data": {
      "text/html": [
       "<table>\n",
       "<caption>A tibble: 18 × 2</caption>\n",
       "<thead>\n",
       "\t<tr><th scope=col>G3</th><th scope=col>n</th></tr>\n",
       "\t<tr><th scope=col>&lt;dbl&gt;</th><th scope=col>&lt;int&gt;</th></tr>\n",
       "</thead>\n",
       "<tbody>\n",
       "\t<tr><td>0</td><td>38</td></tr>\n",
       "\t<tr><td>4</td><td> 1</td></tr>\n",
       "\t<tr><td>5</td><td> 7</td></tr>\n",
       "\t<tr><td>6</td><td>15</td></tr>\n",
       "\t<tr><td>7</td><td> 9</td></tr>\n",
       "\t<tr><td>⋮</td><td>⋮</td></tr>\n",
       "\t<tr><td>16</td><td>16</td></tr>\n",
       "\t<tr><td>17</td><td> 6</td></tr>\n",
       "\t<tr><td>18</td><td>12</td></tr>\n",
       "\t<tr><td>19</td><td> 5</td></tr>\n",
       "\t<tr><td>20</td><td> 1</td></tr>\n",
       "</tbody>\n",
       "</table>\n"
      ],
      "text/latex": [
       "A tibble: 18 × 2\n",
       "\\begin{tabular}{ll}\n",
       " G3 & n\\\\\n",
       " <dbl> & <int>\\\\\n",
       "\\hline\n",
       "\t 0 & 38\\\\\n",
       "\t 4 &  1\\\\\n",
       "\t 5 &  7\\\\\n",
       "\t 6 & 15\\\\\n",
       "\t 7 &  9\\\\\n",
       "\t ⋮ & ⋮\\\\\n",
       "\t 16 & 16\\\\\n",
       "\t 17 &  6\\\\\n",
       "\t 18 & 12\\\\\n",
       "\t 19 &  5\\\\\n",
       "\t 20 &  1\\\\\n",
       "\\end{tabular}\n"
      ],
      "text/markdown": [
       "\n",
       "A tibble: 18 × 2\n",
       "\n",
       "| G3 &lt;dbl&gt; | n &lt;int&gt; |\n",
       "|---|---|\n",
       "| 0 | 38 |\n",
       "| 4 |  1 |\n",
       "| 5 |  7 |\n",
       "| 6 | 15 |\n",
       "| 7 |  9 |\n",
       "| ⋮ | ⋮ |\n",
       "| 16 | 16 |\n",
       "| 17 |  6 |\n",
       "| 18 | 12 |\n",
       "| 19 |  5 |\n",
       "| 20 |  1 |\n",
       "\n"
      ],
      "text/plain": [
       "   G3 n \n",
       "1  0  38\n",
       "2  4   1\n",
       "3  5   7\n",
       "4  6  15\n",
       "5  7   9\n",
       "⋮  ⋮  ⋮ \n",
       "14 16 16\n",
       "15 17  6\n",
       "16 18 12\n",
       "17 19  5\n",
       "18 20  1"
      ]
     },
     "metadata": {},
     "output_type": "display_data"
    },
    {
     "data": {
      "text/html": [
       "<table>\n",
       "<caption>A tibble: 18 × 2</caption>\n",
       "<thead>\n",
       "\t<tr><th scope=col>G3</th><th scope=col>n</th></tr>\n",
       "\t<tr><th scope=col>&lt;dbl&gt;</th><th scope=col>&lt;int&gt;</th></tr>\n",
       "</thead>\n",
       "<tbody>\n",
       "\t<tr><td> 4</td><td>1</td></tr>\n",
       "\t<tr><td>20</td><td>1</td></tr>\n",
       "\t<tr><td>19</td><td>5</td></tr>\n",
       "\t<tr><td>17</td><td>6</td></tr>\n",
       "\t<tr><td> 5</td><td>7</td></tr>\n",
       "\t<tr><td>⋮</td><td>⋮</td></tr>\n",
       "\t<tr><td> 8</td><td>32</td></tr>\n",
       "\t<tr><td>15</td><td>33</td></tr>\n",
       "\t<tr><td> 0</td><td>38</td></tr>\n",
       "\t<tr><td>11</td><td>47</td></tr>\n",
       "\t<tr><td>10</td><td>56</td></tr>\n",
       "</tbody>\n",
       "</table>\n"
      ],
      "text/latex": [
       "A tibble: 18 × 2\n",
       "\\begin{tabular}{ll}\n",
       " G3 & n\\\\\n",
       " <dbl> & <int>\\\\\n",
       "\\hline\n",
       "\t  4 & 1\\\\\n",
       "\t 20 & 1\\\\\n",
       "\t 19 & 5\\\\\n",
       "\t 17 & 6\\\\\n",
       "\t  5 & 7\\\\\n",
       "\t ⋮ & ⋮\\\\\n",
       "\t  8 & 32\\\\\n",
       "\t 15 & 33\\\\\n",
       "\t  0 & 38\\\\\n",
       "\t 11 & 47\\\\\n",
       "\t 10 & 56\\\\\n",
       "\\end{tabular}\n"
      ],
      "text/markdown": [
       "\n",
       "A tibble: 18 × 2\n",
       "\n",
       "| G3 &lt;dbl&gt; | n &lt;int&gt; |\n",
       "|---|---|\n",
       "|  4 | 1 |\n",
       "| 20 | 1 |\n",
       "| 19 | 5 |\n",
       "| 17 | 6 |\n",
       "|  5 | 7 |\n",
       "| ⋮ | ⋮ |\n",
       "|  8 | 32 |\n",
       "| 15 | 33 |\n",
       "|  0 | 38 |\n",
       "| 11 | 47 |\n",
       "| 10 | 56 |\n",
       "\n"
      ],
      "text/plain": [
       "   G3 n \n",
       "1   4 1 \n",
       "2  20 1 \n",
       "3  19 5 \n",
       "4  17 6 \n",
       "5   5 7 \n",
       "⋮  ⋮  ⋮ \n",
       "14  8 32\n",
       "15 15 33\n",
       "16  0 38\n",
       "17 11 47\n",
       "18 10 56"
      ]
     },
     "metadata": {},
     "output_type": "display_data"
    },
    {
     "data": {
      "image/png": "[encoded data removed]",
      "text/plain": [
       "plot without title"
      ]
     },
     "metadata": {
      "image/png": {
       "height": 420,
       "width": 420
      }
     },
     "output_type": "display_data"
    }
   ],
   "source": [
    "student_G3_count <- student_data %>%\n",
    "    group_by(G3) %>%\n",
    "    summarise(n = n())\n",
    "student_G3_count\n",
    "\n",
    "\n",
    "student_G3_count_plot <- ggplot(student_G3_count, aes(x = G3, y = n)) +\n",
    "    geom_bar(stat = \"identity\")\n",
    "student_G3_count_plot\n",
    "        \n",
    "student_G3_count %>% arrange(n)"
   ]
  },
  {
   "cell_type": "code",
   "execution_count": null,
   "metadata": {},
   "outputs": [],
   "source": []
  }
 ],
 "metadata": {
  "kernelspec": {
   "display_name": "R",
   "language": "R",
   "name": "ir"
  },
  "language_info": {
   "codemirror_mode": "r",
   "file_extension": ".r",
   "mimetype": "text/x-r-source",
   "name": "R",
   "pygments_lexer": "r",
   "version": "4.0.0"
  }
 },
 "nbformat": 4,
 "nbformat_minor": 4
}
